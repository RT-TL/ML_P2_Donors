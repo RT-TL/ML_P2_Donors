{
 "cells": [
  {
   "cell_type": "markdown",
   "metadata": {},
   "source": [
    "# Machine Learning Engineer Nanodegree\n",
    "## Supervised Learning\n",
    "## Project: Finding Donors for *CharityML*"
   ]
  },
  {
   "cell_type": "markdown",
   "metadata": {},
   "source": [
    "Welcome to the second project of the Machine Learning Engineer Nanodegree! In this notebook, some template code has already been provided for you, and it will be your job to implement the additional functionality necessary to successfully complete this project. Sections that begin with **'Implementation'** in the header indicate that the following block of code will require additional functionality which you must provide. Instructions will be provided for each section and the specifics of the implementation are marked in the code block with a `'TODO'` statement. Please be sure to read the instructions carefully!\n",
    "\n",
    "In addition to implementing code, there will be questions that you must answer which relate to the project and your implementation. Each section where you will answer a question is preceded by a **'Question X'** header. Carefully read each question and provide thorough answers in the following text boxes that begin with **'Answer:'**. Your project submission will be evaluated based on your answers to each of the questions and the implementation you provide.  \n",
    "\n",
    ">**Note:** Please specify WHICH VERSION OF PYTHON you are using when submitting this notebook. Code and Markdown cells can be executed using the **Shift + Enter** keyboard shortcut. In addition, Markdown cells can be edited by typically double-clicking the cell to enter edit mode.\n",
    "\n",
    "Python Version 2.7.13"
   ]
  },
  {
   "cell_type": "markdown",
   "metadata": {},
   "source": [
    "## Getting Started\n",
    "\n",
    "In this project, you will employ several supervised algorithms of your choice to accurately model individuals' income using data collected from the 1994 U.S. Census. You will then choose the best candidate algorithm from preliminary results and further optimize this algorithm to best model the data. Your goal with this implementation is to construct a model that accurately predicts whether an individual makes more than $50,000. This sort of task can arise in a non-profit setting, where organizations survive on donations.  Understanding an individual's income can help a non-profit better understand how large of a donation to request, or whether or not they should reach out to begin with.  While it can be difficult to determine an individual's general income bracket directly from public sources, we can (as we will see) infer this value from other publically available features. \n",
    "\n",
    "The dataset for this project originates from the [UCI Machine Learning Repository](https://archive.ics.uci.edu/ml/datasets/Census+Income). The datset was donated by Ron Kohavi and Barry Becker, after being published in the article _\"Scaling Up the Accuracy of Naive-Bayes Classifiers: A Decision-Tree Hybrid\"_. You can find the article by Ron Kohavi [online](https://www.aaai.org/Papers/KDD/1996/KDD96-033.pdf). The data we investigate here consists of small changes to the original dataset, such as removing the `'fnlwgt'` feature and records with missing or ill-formatted entries."
   ]
  },
  {
   "cell_type": "markdown",
   "metadata": {},
   "source": [
    "----\n",
    "## Exploring the Data\n",
    "Run the code cell below to load necessary Python libraries and load the census data. Note that the last column from this dataset, `'income'`, will be our target label (whether an individual makes more than, or at most, $50,000 annually). All other columns are features about each individual in the census database."
   ]
  },
  {
   "cell_type": "code",
   "execution_count": 1,
   "metadata": {
    "collapsed": false
   },
   "outputs": [
    {
     "data": {
      "text/html": [
       "<div>\n",
       "<table border=\"1\" class=\"dataframe\">\n",
       "  <thead>\n",
       "    <tr style=\"text-align: right;\">\n",
       "      <th></th>\n",
       "      <th>age</th>\n",
       "      <th>workclass</th>\n",
       "      <th>education_level</th>\n",
       "      <th>education-num</th>\n",
       "      <th>marital-status</th>\n",
       "      <th>occupation</th>\n",
       "      <th>relationship</th>\n",
       "      <th>race</th>\n",
       "      <th>sex</th>\n",
       "      <th>capital-gain</th>\n",
       "      <th>capital-loss</th>\n",
       "      <th>hours-per-week</th>\n",
       "      <th>native-country</th>\n",
       "      <th>income</th>\n",
       "    </tr>\n",
       "  </thead>\n",
       "  <tbody>\n",
       "    <tr>\n",
       "      <th>0</th>\n",
       "      <td>39</td>\n",
       "      <td>State-gov</td>\n",
       "      <td>Bachelors</td>\n",
       "      <td>13.0</td>\n",
       "      <td>Never-married</td>\n",
       "      <td>Adm-clerical</td>\n",
       "      <td>Not-in-family</td>\n",
       "      <td>White</td>\n",
       "      <td>Male</td>\n",
       "      <td>2174.0</td>\n",
       "      <td>0.0</td>\n",
       "      <td>40.0</td>\n",
       "      <td>United-States</td>\n",
       "      <td>&lt;=50K</td>\n",
       "    </tr>\n",
       "    <tr>\n",
       "      <th>1</th>\n",
       "      <td>50</td>\n",
       "      <td>Self-emp-not-inc</td>\n",
       "      <td>Bachelors</td>\n",
       "      <td>13.0</td>\n",
       "      <td>Married-civ-spouse</td>\n",
       "      <td>Exec-managerial</td>\n",
       "      <td>Husband</td>\n",
       "      <td>White</td>\n",
       "      <td>Male</td>\n",
       "      <td>0.0</td>\n",
       "      <td>0.0</td>\n",
       "      <td>13.0</td>\n",
       "      <td>United-States</td>\n",
       "      <td>&lt;=50K</td>\n",
       "    </tr>\n",
       "    <tr>\n",
       "      <th>2</th>\n",
       "      <td>38</td>\n",
       "      <td>Private</td>\n",
       "      <td>HS-grad</td>\n",
       "      <td>9.0</td>\n",
       "      <td>Divorced</td>\n",
       "      <td>Handlers-cleaners</td>\n",
       "      <td>Not-in-family</td>\n",
       "      <td>White</td>\n",
       "      <td>Male</td>\n",
       "      <td>0.0</td>\n",
       "      <td>0.0</td>\n",
       "      <td>40.0</td>\n",
       "      <td>United-States</td>\n",
       "      <td>&lt;=50K</td>\n",
       "    </tr>\n",
       "    <tr>\n",
       "      <th>3</th>\n",
       "      <td>53</td>\n",
       "      <td>Private</td>\n",
       "      <td>11th</td>\n",
       "      <td>7.0</td>\n",
       "      <td>Married-civ-spouse</td>\n",
       "      <td>Handlers-cleaners</td>\n",
       "      <td>Husband</td>\n",
       "      <td>Black</td>\n",
       "      <td>Male</td>\n",
       "      <td>0.0</td>\n",
       "      <td>0.0</td>\n",
       "      <td>40.0</td>\n",
       "      <td>United-States</td>\n",
       "      <td>&lt;=50K</td>\n",
       "    </tr>\n",
       "    <tr>\n",
       "      <th>4</th>\n",
       "      <td>28</td>\n",
       "      <td>Private</td>\n",
       "      <td>Bachelors</td>\n",
       "      <td>13.0</td>\n",
       "      <td>Married-civ-spouse</td>\n",
       "      <td>Prof-specialty</td>\n",
       "      <td>Wife</td>\n",
       "      <td>Black</td>\n",
       "      <td>Female</td>\n",
       "      <td>0.0</td>\n",
       "      <td>0.0</td>\n",
       "      <td>40.0</td>\n",
       "      <td>Cuba</td>\n",
       "      <td>&lt;=50K</td>\n",
       "    </tr>\n",
       "  </tbody>\n",
       "</table>\n",
       "</div>"
      ],
      "text/plain": [
       "   age          workclass education_level  education-num       marital-status  \\\n",
       "0   39          State-gov       Bachelors           13.0        Never-married   \n",
       "1   50   Self-emp-not-inc       Bachelors           13.0   Married-civ-spouse   \n",
       "2   38            Private         HS-grad            9.0             Divorced   \n",
       "3   53            Private            11th            7.0   Married-civ-spouse   \n",
       "4   28            Private       Bachelors           13.0   Married-civ-spouse   \n",
       "\n",
       "           occupation    relationship    race      sex  capital-gain  \\\n",
       "0        Adm-clerical   Not-in-family   White     Male        2174.0   \n",
       "1     Exec-managerial         Husband   White     Male           0.0   \n",
       "2   Handlers-cleaners   Not-in-family   White     Male           0.0   \n",
       "3   Handlers-cleaners         Husband   Black     Male           0.0   \n",
       "4      Prof-specialty            Wife   Black   Female           0.0   \n",
       "\n",
       "   capital-loss  hours-per-week  native-country income  \n",
       "0           0.0            40.0   United-States  <=50K  \n",
       "1           0.0            13.0   United-States  <=50K  \n",
       "2           0.0            40.0   United-States  <=50K  \n",
       "3           0.0            40.0   United-States  <=50K  \n",
       "4           0.0            40.0            Cuba  <=50K  "
      ]
     },
     "metadata": {},
     "output_type": "display_data"
    }
   ],
   "source": [
    "# Import libraries necessary for this project\n",
    "import numpy as np\n",
    "import pandas as pd\n",
    "from time import time\n",
    "from IPython.display import display # Allows the use of display() for DataFrames\n",
    "\n",
    "# Import supplementary visualization code visuals.py\n",
    "import visuals as vs\n",
    "\n",
    "# Pretty display for notebooks\n",
    "%matplotlib inline\n",
    "\n",
    "# Load the Census dataset\n",
    "data = pd.read_csv(\"census.csv\")\n",
    "\n",
    "# Success - Display the first record\n",
    "display(data.head())"
   ]
  },
  {
   "cell_type": "markdown",
   "metadata": {},
   "source": [
    "### Implementation: Data Exploration\n",
    "A cursory investigation of the dataset will determine how many individuals fit into either group, and will tell us about the percentage of these individuals making more than \\$50,000. In the code cell below, you will need to compute the following:\n",
    "- The total number of records, `'n_records'`\n",
    "- The number of individuals making more than \\$50,000 annually, `'n_greater_50k'`.\n",
    "- The number of individuals making at most \\$50,000 annually, `'n_at_most_50k'`.\n",
    "- The percentage of individuals making more than \\$50,000 annually, `'greater_percent'`.\n",
    "\n",
    "**Hint:** You may need to look at the table above to understand how the `'income'` entries are formatted. "
   ]
  },
  {
   "cell_type": "code",
   "execution_count": 2,
   "metadata": {
    "collapsed": false
   },
   "outputs": [
    {
     "name": "stdout",
     "output_type": "stream",
     "text": [
      "Total number of records: 45222\n",
      "Individuals making more than $50,000: 11208\n",
      "Individuals making at most $50,000: 34014\n",
      "Percentage of individuals making more than $50,000: 24.78%\n"
     ]
    }
   ],
   "source": [
    "# TODO: Total number of records\n",
    "n_records = data.shape[0]\n",
    "\n",
    "# TODO: Number of records where individual's income is more than $50,000\n",
    "n_greater_50k = data[data['income'] == '>50K'].shape[0]\n",
    "\n",
    "# TODO: Number of records where individual's income is at most $50,000\n",
    "n_at_most_50k = data[data['income'] == '<=50K'].shape[0]\n",
    "\n",
    "# TODO: Percentage of individuals whose income is more than $50,000\n",
    "greater_percent = 100 * float(n_greater_50k) / n_records\n",
    "\n",
    "# Print the results\n",
    "print \"Total number of records: {}\".format(n_records)\n",
    "print \"Individuals making more than $50,000: {}\".format(n_greater_50k)\n",
    "print \"Individuals making at most $50,000: {}\".format(n_at_most_50k)\n",
    "print \"Percentage of individuals making more than $50,000: {:.2f}%\".format(greater_percent)"
   ]
  },
  {
   "cell_type": "markdown",
   "metadata": {},
   "source": [
    "----\n",
    "## Preparing the Data\n",
    "Before data can be used as input for machine learning algorithms, it often must be cleaned, formatted, and restructured — this is typically known as **preprocessing**. Fortunately, for this dataset, there are no invalid or missing entries we must deal with, however, there are some qualities about certain features that must be adjusted. This preprocessing can help tremendously with the outcome and predictive power of nearly all learning algorithms."
   ]
  },
  {
   "cell_type": "markdown",
   "metadata": {},
   "source": [
    "### Transforming Skewed Continuous Features\n",
    "A dataset may sometimes contain at least one feature whose values tend to lie near a single number, but will also have a non-trivial number of vastly larger or smaller values than that single number.  Algorithms can be sensitive to such distributions of values and can underperform if the range is not properly normalized. With the census dataset two features fit this description: '`capital-gain'` and `'capital-loss'`. \n",
    "\n",
    "Run the code cell below to plot a histogram of these two features. Note the range of the values present and how they are distributed."
   ]
  },
  {
   "cell_type": "code",
   "execution_count": 3,
   "metadata": {
    "collapsed": false
   },
   "outputs": [
    {
     "data": {
      "image/png": "[encoded data removed]",
      "text/plain": [
       "<matplotlib.figure.Figure at 0x7f260c3972d0>"
      ]
     },
     "metadata": {},
     "output_type": "display_data"
    }
   ],
   "source": [
    "# Split the data into features and target label\n",
    "income_raw = data['income']\n",
    "features_raw = data.drop('income', axis = 1)\n",
    "\n",
    "# Visualize skewed continuous features of original data\n",
    "vs.distribution(data)"
   ]
  },
  {
   "cell_type": "markdown",
   "metadata": {},
   "source": [
    "For highly-skewed feature distributions such as `'capital-gain'` and `'capital-loss'`, it is common practice to apply a <a href=\"https://en.wikipedia.org/wiki/Data_transformation_(statistics)\">logarithmic transformation</a> on the data so that the very large and very small values do not negatively affect the performance of a learning algorithm. Using a logarithmic transformation significantly reduces the range of values caused by outliers. Care must be taken when applying this transformation however: The logarithm of `0` is undefined, so we must translate the values by a small amount above `0` to apply the the logarithm successfully.\n",
    "\n",
    "Run the code cell below to perform a transformation on the data and visualize the results. Again, note the range of values and how they are distributed. "
   ]
  },
  {
   "cell_type": "code",
   "execution_count": 4,
   "metadata": {
    "collapsed": false
   },
   "outputs": [
    {
     "data": {
      "image/png": "[encoded data removed]",
      "text/plain": [
       "<matplotlib.figure.Figure at 0x7f2608b0e410>"
      ]
     },
     "metadata": {},
     "output_type": "display_data"
    }
   ],
   "source": [
    "# Log-transform the skewed features\n",
    "skewed = ['capital-gain', 'capital-loss']\n",
    "features_raw[skewed] = data[skewed].apply(lambda x: np.log(x + 1))\n",
    "\n",
    "# Visualize the new log distributions\n",
    "vs.distribution(features_raw, transformed = True)"
   ]
  },
  {
   "cell_type": "markdown",
   "metadata": {},
   "source": [
    "### Normalizing Numerical Features\n",
    "In addition to performing transformations on features that are highly skewed, it is often good practice to perform some type of scaling on numerical features. Applying a scaling to the data does not change the shape of each feature's distribution (such as `'capital-gain'` or `'capital-loss'` above); however, normalization ensures that each feature is treated equally when applying supervised learners. Note that once scaling is applied, observing the data in its raw form will no longer have the same original meaning, as exampled below.\n",
    "\n",
    "Run the code cell below to normalize each numerical feature. We will use [`sklearn.preprocessing.MinMaxScaler`](http://scikit-learn.org/stable/modules/generated/sklearn.preprocessing.MinMaxScaler.html) for this."
   ]
  },
  {
   "cell_type": "code",
   "execution_count": 5,
   "metadata": {
    "collapsed": false
   },
   "outputs": [
    {
     "data": {
      "text/html": [
       "<div>\n",
       "<table border=\"1\" class=\"dataframe\">\n",
       "  <thead>\n",
       "    <tr style=\"text-align: right;\">\n",
       "      <th></th>\n",
       "      <th>age</th>\n",
       "      <th>workclass</th>\n",
       "      <th>education_level</th>\n",
       "      <th>education-num</th>\n",
       "      <th>marital-status</th>\n",
       "      <th>occupation</th>\n",
       "      <th>relationship</th>\n",
       "      <th>race</th>\n",
       "      <th>sex</th>\n",
       "      <th>capital-gain</th>\n",
       "      <th>capital-loss</th>\n",
       "      <th>hours-per-week</th>\n",
       "      <th>native-country</th>\n",
       "    </tr>\n",
       "  </thead>\n",
       "  <tbody>\n",
       "    <tr>\n",
       "      <th>0</th>\n",
       "      <td>0.30137</td>\n",
       "      <td>State-gov</td>\n",
       "      <td>Bachelors</td>\n",
       "      <td>0.8</td>\n",
       "      <td>Never-married</td>\n",
       "      <td>Adm-clerical</td>\n",
       "      <td>Not-in-family</td>\n",
       "      <td>White</td>\n",
       "      <td>Male</td>\n",
       "      <td>0.02174</td>\n",
       "      <td>0.0</td>\n",
       "      <td>0.397959</td>\n",
       "      <td>United-States</td>\n",
       "    </tr>\n",
       "  </tbody>\n",
       "</table>\n",
       "</div>"
      ],
      "text/plain": [
       "       age   workclass education_level  education-num  marital-status  \\\n",
       "0  0.30137   State-gov       Bachelors            0.8   Never-married   \n",
       "\n",
       "      occupation    relationship    race    sex  capital-gain  capital-loss  \\\n",
       "0   Adm-clerical   Not-in-family   White   Male       0.02174           0.0   \n",
       "\n",
       "   hours-per-week  native-country  \n",
       "0        0.397959   United-States  "
      ]
     },
     "metadata": {},
     "output_type": "display_data"
    }
   ],
   "source": [
    "# Import sklearn.preprocessing.StandardScaler\n",
    "from sklearn.preprocessing import MinMaxScaler\n",
    "\n",
    "# Initialize a scaler, then apply it to the features\n",
    "scaler = MinMaxScaler()\n",
    "numerical = ['age', 'education-num', 'capital-gain', 'capital-loss', 'hours-per-week']\n",
    "features_raw[numerical] = scaler.fit_transform(data[numerical])\n",
    "\n",
    "# Show an example of a record with scaling applied\n",
    "display(features_raw.head(n = 1))"
   ]
  },
  {
   "cell_type": "markdown",
   "metadata": {},
   "source": [
    "### Implementation: Data Preprocessing\n",
    "\n",
    "From the table in **Exploring the Data** above, we can see there are several features for each record that are non-numeric. Typically, learning algorithms expect input to be numeric, which requires that non-numeric features (called *categorical variables*) be converted. One popular way to convert categorical variables is by using the **one-hot encoding** scheme. One-hot encoding creates a _\"dummy\"_ variable for each possible category of each non-numeric feature. For example, assume `someFeature` has three possible entries: `A`, `B`, or `C`. We then encode this feature into `someFeature_A`, `someFeature_B` and `someFeature_C`.\n",
    "\n",
    "|   | someFeature |                    | someFeature_A | someFeature_B | someFeature_C |\n",
    "| :-: | :-: |                            | :-: | :-: | :-: |\n",
    "| 0 |  B  |  | 0 | 1 | 0 |\n",
    "| 1 |  C  | ----> one-hot encode ----> | 0 | 0 | 1 |\n",
    "| 2 |  A  |  | 1 | 0 | 0 |\n",
    "\n",
    "Additionally, as with the non-numeric features, we need to convert the non-numeric target label, `'income'` to numerical values for the learning algorithm to work. Since there are only two possible categories for this label (\"<=50K\" and \">50K\"), we can avoid using one-hot encoding and simply encode these two categories as `0` and `1`, respectively. In code cell below, you will need to implement the following:\n",
    " - Use [`pandas.get_dummies()`](http://pandas.pydata.org/pandas-docs/stable/generated/pandas.get_dummies.html?highlight=get_dummies#pandas.get_dummies) to perform one-hot encoding on the `'features_raw'` data.\n",
    " - Convert the target label `'income_raw'` to numerical entries.\n",
    "   - Set records with \"<=50K\" to `0` and records with \">50K\" to `1`."
   ]
  },
  {
   "cell_type": "code",
   "execution_count": 6,
   "metadata": {
    "collapsed": false,
    "scrolled": true
   },
   "outputs": [
    {
     "name": "stdout",
     "output_type": "stream",
     "text": [
      "103 total features after one-hot encoding.\n",
      "['age', 'education-num', 'capital-gain', 'capital-loss', 'hours-per-week', 'workclass_ Federal-gov', 'workclass_ Local-gov', 'workclass_ Private', 'workclass_ Self-emp-inc', 'workclass_ Self-emp-not-inc', 'workclass_ State-gov', 'workclass_ Without-pay', 'education_level_ 10th', 'education_level_ 11th', 'education_level_ 12th', 'education_level_ 1st-4th', 'education_level_ 5th-6th', 'education_level_ 7th-8th', 'education_level_ 9th', 'education_level_ Assoc-acdm', 'education_level_ Assoc-voc', 'education_level_ Bachelors', 'education_level_ Doctorate', 'education_level_ HS-grad', 'education_level_ Masters', 'education_level_ Preschool', 'education_level_ Prof-school', 'education_level_ Some-college', 'marital-status_ Divorced', 'marital-status_ Married-AF-spouse', 'marital-status_ Married-civ-spouse', 'marital-status_ Married-spouse-absent', 'marital-status_ Never-married', 'marital-status_ Separated', 'marital-status_ Widowed', 'occupation_ Adm-clerical', 'occupation_ Armed-Forces', 'occupation_ Craft-repair', 'occupation_ Exec-managerial', 'occupation_ Farming-fishing', 'occupation_ Handlers-cleaners', 'occupation_ Machine-op-inspct', 'occupation_ Other-service', 'occupation_ Priv-house-serv', 'occupation_ Prof-specialty', 'occupation_ Protective-serv', 'occupation_ Sales', 'occupation_ Tech-support', 'occupation_ Transport-moving', 'relationship_ Husband', 'relationship_ Not-in-family', 'relationship_ Other-relative', 'relationship_ Own-child', 'relationship_ Unmarried', 'relationship_ Wife', 'race_ Amer-Indian-Eskimo', 'race_ Asian-Pac-Islander', 'race_ Black', 'race_ Other', 'race_ White', 'sex_ Female', 'sex_ Male', 'native-country_ Cambodia', 'native-country_ Canada', 'native-country_ China', 'native-country_ Columbia', 'native-country_ Cuba', 'native-country_ Dominican-Republic', 'native-country_ Ecuador', 'native-country_ El-Salvador', 'native-country_ England', 'native-country_ France', 'native-country_ Germany', 'native-country_ Greece', 'native-country_ Guatemala', 'native-country_ Haiti', 'native-country_ Holand-Netherlands', 'native-country_ Honduras', 'native-country_ Hong', 'native-country_ Hungary', 'native-country_ India', 'native-country_ Iran', 'native-country_ Ireland', 'native-country_ Italy', 'native-country_ Jamaica', 'native-country_ Japan', 'native-country_ Laos', 'native-country_ Mexico', 'native-country_ Nicaragua', 'native-country_ Outlying-US(Guam-USVI-etc)', 'native-country_ Peru', 'native-country_ Philippines', 'native-country_ Poland', 'native-country_ Portugal', 'native-country_ Puerto-Rico', 'native-country_ Scotland', 'native-country_ South', 'native-country_ Taiwan', 'native-country_ Thailand', 'native-country_ Trinadad&Tobago', 'native-country_ United-States', 'native-country_ Vietnam', 'native-country_ Yugoslavia']\n"
     ]
    }
   ],
   "source": [
    "# TODO: One-hot encode the 'features_raw' data using pandas.get_dummies()\n",
    "features = pd.get_dummies(features_raw)\n",
    "\n",
    "# TODO: Encode the 'income_raw' data to numerical values\n",
    "income = income_raw.apply(lambda x: 0 if(x == '<=50K') else 1)\n",
    "\n",
    "# Print the number of features after one-hot encoding\n",
    "encoded = list(features.columns)\n",
    "print \"{} total features after one-hot encoding.\".format(len(encoded))\n",
    "\n",
    "# Uncomment the following line to see the encoded feature names\n",
    "print encoded"
   ]
  },
  {
   "cell_type": "markdown",
   "metadata": {},
   "source": [
    "### Shuffle and Split Data\n",
    "Now all _categorical variables_ have been converted into numerical features, and all numerical features have been normalized. As always, we will now split the data (both features and their labels) into training and test sets. 80% of the data will be used for training and 20% for testing.\n",
    "\n",
    "Run the code cell below to perform this split."
   ]
  },
  {
   "cell_type": "code",
   "execution_count": 7,
   "metadata": {
    "collapsed": false
   },
   "outputs": [
    {
     "name": "stdout",
     "output_type": "stream",
     "text": [
      "Training set has 36177 samples.\n",
      "Testing set has 9045 samples.\n"
     ]
    }
   ],
   "source": [
    "# Import train_test_split\n",
    "from sklearn.model_selection import train_test_split\n",
    "\n",
    "# Split the 'features' and 'income' data into training and testing sets\n",
    "X_train, X_test, y_train, y_test = train_test_split(features, income, test_size = 0.2, random_state = 0)\n",
    "\n",
    "# Show the results of the split\n",
    "print \"Training set has {} samples.\".format(X_train.shape[0])\n",
    "print \"Testing set has {} samples.\".format(X_test.shape[0])"
   ]
  },
  {
   "cell_type": "markdown",
   "metadata": {},
   "source": [
    "----\n",
    "## Evaluating Model Performance\n",
    "In this section, we will investigate four different algorithms, and determine which is best at modeling the data. Three of these algorithms will be supervised learners of your choice, and the fourth algorithm is known as a *naive predictor*."
   ]
  },
  {
   "cell_type": "markdown",
   "metadata": {},
   "source": [
    "### Metrics and the Naive Predictor\n",
    "*CharityML*, equipped with their research, knows individuals that make more than \\$50,000 are most likely to donate to their charity. Because of this, *CharityML* is particularly interested in predicting who makes more than \\$50,000 accurately. It would seem that using **accuracy** as a metric for evaluating a particular model's performace would be appropriate. Additionally, identifying someone that *does not* make more than \\$50,000 as someone who does would be detrimental to *CharityML*, since they are looking to find individuals willing to donate. Therefore, a model's ability to precisely predict those that make more than \\$50,000 is *more important* than the model's ability to **recall** those individuals. We can use **F-beta score** as a metric that considers both precision and recall:\n",
    "\n",
    "$$ F_{\\beta} = (1 + \\beta^2) \\cdot \\frac{precision \\cdot recall}{\\left( \\beta^2 \\cdot precision \\right) + recall} $$\n",
    "\n",
    "In particular, when $\\beta = 0.5$, more emphasis is placed on precision. This is called the **F$_{0.5}$ score** (or F-score for simplicity).\n",
    "\n",
    "Looking at the distribution of classes (those who make at most \\$50,000, and those who make more), it's clear most individuals do not make more than \\$50,000. This can greatly affect **accuracy**, since we could simply say *\"this person does not make more than \\$50,000\"* and generally be right, without ever looking at the data! Making such a statement would be called **naive**, since we have not considered any information to substantiate the claim. It is always important to consider the *naive prediction* for your data, to help establish a benchmark for whether a model is performing well. That been said, using that prediction would be pointless: If we predicted all people made less than \\$50,000, *CharityML* would identify no one as donors. "
   ]
  },
  {
   "cell_type": "markdown",
   "metadata": {},
   "source": [
    "### Question 1 - Naive Predictor Performace\n",
    "*If we chose a model that always predicted an individual made more than \\$50,000, what would that model's accuracy and F-score be on this dataset?*  \n",
    "**Note:** You must use the code cell below and assign your results to `'accuracy'` and `'fscore'` to be used later."
   ]
  },
  {
   "cell_type": "code",
   "execution_count": 14,
   "metadata": {
    "collapsed": false
   },
   "outputs": [
    {
     "name": "stdout",
     "output_type": "stream",
     "text": [
      "Naive Predictor: [Accuracy score: 0.2478, F-score: 0.2917]\n"
     ]
    }
   ],
   "source": [
    "# TODO: Calculate accuracy\n",
    "accuracy = (float(n_greater_50k)/n_records)\n",
    "\n",
    "# TODO: Calculate F-score using the formula above for beta = 0.5\n",
    "# Recall has a value of 1 because everyone earning more than 50k is successfully \"recalled\" if prediction is static true for > 50k\n",
    "fscore = (1 + 0.5 * 0.5 ) * float(accuracy * 1 / (0.5 * 0.5 * accuracy + 1))\n",
    "\n",
    "# Print the results \n",
    "print \"Naive Predictor: [Accuracy score: {:.4f}, F-score: {:.4f}]\".format(accuracy, fscore)"
   ]
  },
  {
   "cell_type": "markdown",
   "metadata": {},
   "source": [
    "###  Supervised Learning Models\n",
    "**The following supervised learning models are currently available in** [`scikit-learn`](http://scikit-learn.org/stable/supervised_learning.html) **that you may choose from:**\n",
    "- Gaussian Naive Bayes (GaussianNB)\n",
    "- Decision Trees\n",
    "- Ensemble Methods (Bagging, AdaBoost, Random Forest, Gradient Boosting)\n",
    "- K-Nearest Neighbors (KNeighbors)\n",
    "- Stochastic Gradient Descent Classifier (SGDC)\n",
    "- Support Vector Machines (SVM)\n",
    "- Logistic Regression"
   ]
  },
  {
   "cell_type": "markdown",
   "metadata": {},
   "source": [
    "### Question 2 - Model Application\n",
    "List three of the supervised learning models above that are appropriate for this problem that you will test on the census data. For each model chosen\n",
    "- *Describe one real-world application in industry where the model can be applied.* (You may need to do research for this — give references!)\n",
    "- *What are the strengths of the model; when does it perform well?*\n",
    "- *What are the weaknesses of the model; when does it perform poorly?*\n",
    "- *What makes this model a good candidate for the problem, given what you know about the data?*"
   ]
  },
  {
   "cell_type": "markdown",
   "metadata": {},
   "source": [
    "**MODEL SELECTION**\n",
    "\n",
    "Selecting a model follows the principle of **Occam's razor**: If multiple models are applicable the most simple is preferable. An important factor in the evaluation of algorithms is the size of the data set (around 45.000 records in this case) and the amount of features (103 after 1-hot-encoding). It is worth noting that 1-hot-encoding produces a lot of interdependent binary features, which can have an impact on the applicability of algorithms. In the model selection I rule out the KNN algorithm because it does not perform well with large amounts of features. I will also rule out the Naive Bayes algorithm because it assumes feature independece. By using 1-hot encoding the feature set some of the features heavily depend on each other in that only one of them can be non-zero.\n",
    "\n",
    "Based on this and using th scikit learn cheat sheet I select Logistic Regression as a simple model as benchmark for the machine learning approach in order to assess if more complicated model actually provide significant improvements. Following the scikit learn cheat sheet I will further use SVM and the AdaBoost ensemble method.\n",
    "\n",
    "**INDUSTRY EXAMPLES**\n",
    "\n",
    "- Gaussian Naive Bayes (GaussianNB): Used for improvement measurement in A/B-testing (reference: own experience)\n",
    "- Decision Trees: Used in physics for detection of physical particles (http://www.cbcb.umd.edu/~salzberg/docs/murthy_thesis/survey/node32.html)\n",
    "- Ensemble Methods (Bagging, AdaBoost, Random Forest, Gradient Boosting): Adaboost is used in traffic sign recognition (or image recognition an computer vision in general) (http://www.maia.ub.es/~sergio/files/Transport09.pdf)\n",
    "- K-Nearest Neighbors (KNeighbors): Fault detection in semiconductor manufacturing (https://www.researchgate.net/publication/3284325_Fault_Detection_Using_the_k-Nearest_Neighbor_Rule_for_Semiconductor_Manufacturing_Processes)\n",
    "- Stochastic Gradient Descent Classifier (SGDC): Used in employee perrformance evaluation (http://www.iosrjournals.org/iosr-jbm/papers/Vol16-issue6/Version-3/I016637780.pdf)\n",
    "- Support Vector Machines (SVM): Used for complex relationships in oil refineries (http://www.academia.edu/952868/Applications_of_Support_Vector_Machines_in_Oil_Refineries_A_Survey)\n",
    "- Logistic Regression: Predict default risk in home owners mortgages (http://ir.csu.edu.tw/bitstream/987654321/3004/2/Application+of+Logistic+Regression+Analysis+of+Home+Mortgage+Loan+Prepayment+and+Default+Risk.pdf)\n",
    "\n",
    "**MODEL EVALUATION**\n",
    "\n",
    "*Logistic Regression (LR)*\n",
    "\n",
    "- strengths:\n",
    "\n",
    "Simple and fast. Well suited for binary predictions. Can work with many features and is not limited to represent linear relationships.\n",
    "\n",
    "- weaknesses:\n",
    "\n",
    "LR requires several assumptions to be true to produce valid results such as no multi-colinearity of features. LR also does not work well with outliers in the dataset. \n",
    "\n",
    "- application for current problem:\n",
    "\n",
    "The limitation to dichotomous predictions is not an issue in this scenario. The simplicity of the algorithm in itself is an advantage, given that the results are accurate. Currently it is unknown if the data complies with the assumptions of LR. Given a large amount of data logistic regression seems suitable for the given problem.\n",
    "\n",
    "\n",
    "*Support Vector Machine (SVM)*\n",
    "\n",
    "- strengths:\n",
    "\n",
    "Due to kernels SVMs are not limited to linear relationships and can incorporate domain knowledge through this and other parameters. They usually have a high level of generalizability with well-selected C and r parameters. \n",
    "\n",
    "- weaknesses:\n",
    "\n",
    "SVMs are complex in their processing and so it is hard to interpret their results opposed to other techniques such as decision trees. Due to the numeric approach feature scaling is very important for SVMs. Having very heterogenous features with normalization will distort the results. The hyperplane calculation that is required for the SVM approach is computationally intensive. This makes SVMs problematic for very large datasets, many changes on this data and time critical predictions.\n",
    "\n",
    "- application for current problem:\n",
    "\n",
    "The given data has been normalized and transformed in a way that SVMs should be applicable here, but the calculation might be a bit more time consuming. The size of the data should not be an issue, especially because longer run times are not critical in this scenario.\n",
    "\n",
    "\n",
    "*Adaboost*\n",
    "\n",
    "Adaboost uses a set of weak learners and measures an error that influences the weight the learners have when they vote for a classification. The weak learners are applied sequentially, taking the new weights as inputs and thus optimizing differently on the same but differntly weighted data set. \n",
    "\n",
    "- strengths:\n",
    "\n",
    "By cominbing a set of weak learnes (decision trees/decision stumps) their disadvantage to tend towards overfitting can be partially mitigated. In general ensemble methods achieve higher accuracy than their underlying algorithms alone. The increased complexity of the model can account for highe complexity in relationships within the data.\n",
    "\n",
    "- weaknesses:\n",
    "\n",
    "Combining multiple predictors makes the result very hard to evaluate and understand. It is difficult to comprehend, why certain predictions are made. Using multiple weak learners, train them and calculate a weighting to combine their predictions also requires additional steps which makes ensemble methods and their parametrization time-consuming. Adaboost can also be sensitive to noisy data and outliers and is limited to the prediction of binary classes.\n",
    "\n",
    "- application for current problem:\n",
    "\n",
    "In the given scenario Adaboost seem to be a good way to increase the accuracy of predictions. For the amount of data training and prediction time can potentially be an issue. Because predictions do not need to be made in a real time environment this constraint does not seem to be a limiting factor. Especially in the current case where data is split across many features of heterogeneous nature an ensemble method based on decision trees seems well suited.\n"
   ]
  },
  {
   "cell_type": "markdown",
   "metadata": {},
   "source": [
    "### Implementation - Creating a Training and Predicting Pipeline\n",
    "To properly evaluate the performance of each model you've chosen, it's important that you create a training and predicting pipeline that allows you to quickly and effectively train models using various sizes of training data and perform predictions on the testing data. Your implementation here will be used in the following section.\n",
    "In the code block below, you will need to implement the following:\n",
    " - Import `fbeta_score` and `accuracy_score` from [`sklearn.metrics`](http://scikit-learn.org/stable/modules/classes.html#sklearn-metrics-metrics).\n",
    " - Fit the learner to the sampled training data and record the training time.\n",
    " - Perform predictions on the test data `X_test`, and also on the first 300 training points `X_train[:300]`.\n",
    "   - Record the total prediction time.\n",
    " - Calculate the accuracy score for both the training subset and testing set.\n",
    " - Calculate the F-score for both the training subset and testing set.\n",
    "   - Make sure that you set the `beta` parameter!"
   ]
  },
  {
   "cell_type": "code",
   "execution_count": 9,
   "metadata": {
    "collapsed": false
   },
   "outputs": [],
   "source": [
    "# TODO: Import two metrics from sklearn - fbeta_score and accuracy_score\n",
    "from sklearn.metrics import fbeta_score\n",
    "from sklearn.metrics import accuracy_score\n",
    "\n",
    "def train_predict(learner, sample_size, X_train, y_train, X_test, y_test): \n",
    "    '''\n",
    "    inputs:\n",
    "       - learner: the learning algorithm to be trained and predicted on\n",
    "       - sample_size: the size of samples (number) to be drawn from training set\n",
    "       - X_train: features training set\n",
    "       - y_train: income training set\n",
    "       - X_test: features testing set\n",
    "       - y_test: income testing set\n",
    "    '''\n",
    "    \n",
    "    results = {}\n",
    "    \n",
    "    # TODO: Fit the learner to the training data using slicing with 'sample_size'\n",
    "    start = time() # Get start time\n",
    "    learner.fit(X_train[:sample_size], y_train[:sample_size])\n",
    "    end = time() # Get end time\n",
    "    \n",
    "    # TODO: Calculate the training time\n",
    "    results['train_time'] = end - start\n",
    "        \n",
    "    # TODO: Get the predictions on the test set,\n",
    "    #       then get predictions on the first 300 training samples\n",
    "    start = time() # Get start time\n",
    "    predictions_test = learner.predict(X_test)\n",
    "    predictions_train = learner.predict(X_train[:300])\n",
    "    end = time() # Get end time\n",
    "    \n",
    "    # TODO: Calculate the total prediction time\n",
    "    results['pred_time'] = end - start\n",
    "            \n",
    "    # TODO: Compute accuracy on the first 300 training samples\n",
    "    results['acc_train'] = accuracy_score(y_train[:300], predictions_train)\n",
    "        \n",
    "    # TODO: Compute accuracy on test set\n",
    "    results['acc_test'] = accuracy_score(y_test, predictions_test)\n",
    "    \n",
    "    # TODO: Compute F-score on the the first 300 training samples\n",
    "    results['f_train'] = fbeta_score(y_train[:300], predictions_train, beta = 0.5)\n",
    "        \n",
    "    # TODO: Compute F-score on the test set\n",
    "    results['f_test'] = fbeta_score(y_test, predictions_test, beta = 0.5)\n",
    "       \n",
    "    # Success\n",
    "    print \"{} trained on {} samples.\".format(learner.__class__.__name__, sample_size)\n",
    "        \n",
    "    # Return the results\n",
    "    return results"
   ]
  },
  {
   "cell_type": "markdown",
   "metadata": {},
   "source": [
    "### Implementation: Initial Model Evaluation\n",
    "In the code cell, you will need to implement the following:\n",
    "- Import the three supervised learning models you've discussed in the previous section.\n",
    "- Initialize the three models and store them in `'clf_A'`, `'clf_B'`, and `'clf_C'`.\n",
    "  - Use a `'random_state'` for each model you use, if provided.\n",
    "  - **Note:** Use the default settings for each model — you will tune one specific model in a later section.\n",
    "- Calculate the number of records equal to 1%, 10%, and 100% of the training data.\n",
    "  - Store those values in `'samples_1'`, `'samples_10'`, and `'samples_100'` respectively.\n",
    "\n",
    "**Note:** Depending on which algorithms you chose, the following implementation may take some time to run!"
   ]
  },
  {
   "cell_type": "code",
   "execution_count": 10,
   "metadata": {
    "collapsed": false
   },
   "outputs": [
    {
     "name": "stdout",
     "output_type": "stream",
     "text": [
      "LogisticRegression trained on 361 samples.\n",
      "LogisticRegression trained on 3617 samples.\n",
      "LogisticRegression trained on 36177 samples.\n"
     ]
    },
    {
     "name": "stderr",
     "output_type": "stream",
     "text": [
      "/home/vagrant/anaconda2/lib/python2.7/site-packages/sklearn/metrics/classification.py:1113: UndefinedMetricWarning: F-score is ill-defined and being set to 0.0 due to no predicted samples.\n",
      "  'precision', 'predicted', average, warn_for)\n"
     ]
    },
    {
     "name": "stdout",
     "output_type": "stream",
     "text": [
      "SVC trained on 361 samples.\n",
      "SVC trained on 3617 samples.\n",
      "SVC trained on 36177 samples.\n",
      "AdaBoostClassifier trained on 361 samples.\n",
      "AdaBoostClassifier trained on 3617 samples.\n",
      "AdaBoostClassifier trained on 36177 samples.\n"
     ]
    },
    {
     "data": {
      "image/png": "[encoded data removed]",
      "text/plain": [
       "<matplotlib.figure.Figure at 0x7f2608a5f510>"
      ]
     },
     "metadata": {},
     "output_type": "display_data"
    }
   ],
   "source": [
    "# TODO: Import the three supervised learning models from sklearn\n",
    "from sklearn.linear_model import LogisticRegression\n",
    "from sklearn import svm\n",
    "from sklearn.ensemble import AdaBoostClassifier\n",
    "\n",
    "# TODO: Initialize the three models\n",
    "clf_A = LogisticRegression(random_state=14)\n",
    "clf_B = svm.SVC(random_state=14)\n",
    "clf_C = AdaBoostClassifier(random_state=14)\n",
    "\n",
    "# TODO: Calculate the number of samples for 1%, 10%, and 100% of the training data\n",
    "\n",
    "samples_1 = int(len(X_train) * 0.01)\n",
    "samples_10 = int(len(X_train) * 0.1)\n",
    "samples_100 = int(len(X_train))\n",
    "\n",
    "# Collect results on the learners\n",
    "results = {}\n",
    "for clf in [clf_A, clf_B, clf_C]:\n",
    "    clf_name = clf.__class__.__name__\n",
    "    results[clf_name] = {}\n",
    "    for i, samples in enumerate([samples_1, samples_10, samples_100]):\n",
    "        results[clf_name][i] = \\\n",
    "        train_predict(clf, samples, X_train, y_train, X_test, y_test)\n",
    "\n",
    "# Run metrics visualization for the three supervised learning models chosen\n",
    "vs.evaluate(results, accuracy, fscore)"
   ]
  },
  {
   "cell_type": "markdown",
   "metadata": {},
   "source": [
    "----\n",
    "## Improving Results\n",
    "In this final section, you will choose from the three supervised learning models the *best* model to use on the student data. You will then perform a grid search optimization for the model over the entire training set (`X_train` and `y_train`) by tuning at least one parameter to improve upon the untuned model's F-score. "
   ]
  },
  {
   "cell_type": "markdown",
   "metadata": {},
   "source": [
    "### Question 3 - Choosing the Best Model\n",
    "*Based on the evaluation you performed earlier, in one to two paragraphs, explain to *CharityML* which of the three models you believe to be most appropriate for the task of identifying individuals that make more than \\$50,000.*  \n",
    "**Hint:** Your answer should include discussion of the metrics, prediction/training time, and the algorithm's suitability for the data."
   ]
  },
  {
   "cell_type": "markdown",
   "metadata": {},
   "source": [
    "**Answer: **\n",
    "The most suitable classifier among the tested ones is the Adaboost Ensemble method. It outperforms the other models with a slightly better performance on training and testing data with an accuracy of approx. 83% and an f-score of approx. 0.7. High f-scores incorporate two values: a good coverage of the relevant individuals (recall rate, i.e. not missing too many relevant persons as possible donors) and a low rate of false positives (precision, avoiding getting in touch with too many irrelevant individuals). The accuracy represents a good quality of predictions in general, positive as well as negative.\n",
    "\n",
    "It is not surprising that Adaboost is the most suitable algorithm in this scenario. The high number of features (pieces of information about individual) that need to be considered and treated differently provide a very heterogeneous database for making predictions. The decision-tree-based algorithm can deal with this situation in a proper manner. In the given problem prediction time is hardly relevant however Adaboost does show a moderate time for training and prediction."
   ]
  },
  {
   "cell_type": "markdown",
   "metadata": {},
   "source": [
    "### Question 4 - Describing the Model in Layman's Terms\n",
    "*In one to two paragraphs, explain to *CharityML*, in layman's terms, how the final model chosen is supposed to work. Be sure that you are describing the major qualities of the model, such as how the model is trained and how the model makes a prediction. Avoid using advanced mathematical or technical jargon, such as describing equations or discussing the algorithm implementation.*"
   ]
  },
  {
   "cell_type": "markdown",
   "metadata": {},
   "source": [
    "**Answer: ** \n",
    "In the predictino of potential downers I used Adaboost, an ensemble method. Ensemble means that it combines multiple ways of learning and predicting what we want to know. These ways are called \"weak learners\". In this case I used decision trees as weak learners, which I will explain first: Decision trees in general ask single questions about the data we have, e.g. are the working hours per week above or below a certain amount. The answer to this question determines, which question is asked next. After asking this question the Decision Tree comes to an result, the prediction we need. To make this possible, a training phase is required. In this phase it is determined which questions are asked in which order. How the questions are selected in the first place can happen in different ways. One common approach is the \"information gain\", that says as much as which question has the best chance to tell me if someone will become a donor or not.\n",
    "\n",
    "Since Adaboost is an ensemble method it does not rely on a single decision tree but uses multiples of these \"weak learners\". This happens by first using one decision tree. Afterwards it is measured where this decision tree was wrong. The next decision tree is used that puts more emphasize on the wrong elements and less on the right ones. This cycle is repeated until certain criteria are reach, often the number of decision trees. When the training phase is over the result are a lot of decision trees that ask different questions about the answer. To make a prediction if an individual is possibly a donor all decision trees together provide a majority vote. The big advantage compared to a single tree is that it is more accurate by improving on difficult situations. Also decision trees tend to look very detailed at the data and then struggle when they see new data. By using many trees that are a bit simpler this \"overfitting\" does not happen as easliy."
   ]
  },
  {
   "cell_type": "markdown",
   "metadata": {},
   "source": [
    "### Implementation: Model Tuning\n",
    "Fine tune the chosen model. Use grid search (`GridSearchCV`) with at least one important parameter tuned with at least 3 different values. You will need to use the entire training set for this. In the code cell below, you will need to implement the following:\n",
    "- Import [`sklearn.grid_search.GridSearchCV`](http://scikit-learn.org/0.17/modules/generated/sklearn.grid_search.GridSearchCV.html) and [`sklearn.metrics.make_scorer`](http://scikit-learn.org/stable/modules/generated/sklearn.metrics.make_scorer.html).\n",
    "- Initialize the classifier you've chosen and store it in `clf`.\n",
    " - Set a `random_state` if one is available to the same state you set before.\n",
    "- Create a dictionary of parameters you wish to tune for the chosen model.\n",
    " - Example: `parameters = {'parameter' : [list of values]}`.\n",
    " - **Note:** Avoid tuning the `max_features` parameter of your learner if that parameter is available!\n",
    "- Use `make_scorer` to create an `fbeta_score` scoring object (with $\\beta = 0.5$).\n",
    "- Perform grid search on the classifier `clf` using the `'scorer'`, and store it in `grid_obj`.\n",
    "- Fit the grid search object to the training data (`X_train`, `y_train`), and store it in `grid_fit`.\n",
    "\n",
    "**Note:** Depending on the algorithm chosen and the parameter list, the following implementation may take some time to run!"
   ]
  },
  {
   "cell_type": "code",
   "execution_count": 11,
   "metadata": {
    "collapsed": false
   },
   "outputs": [
    {
     "name": "stdout",
     "output_type": "stream",
     "text": [
      "Fitting 3 folds for each of 40 candidates, totalling 120 fits\n",
      "[CV] n_estimators=60, base_estimator__criterion=gini, base_estimator__max_depth=1, algorithm=SAMME, base_estimator__splitter=best \n",
      "[CV]  n_estimators=60, base_estimator__criterion=gini, base_estimator__max_depth=1, algorithm=SAMME, base_estimator__splitter=best, total=   1.4s\n",
      "[CV] n_estimators=60, base_estimator__criterion=gini, base_estimator__max_depth=1, algorithm=SAMME, base_estimator__splitter=best \n"
     ]
    },
    {
     "name": "stderr",
     "output_type": "stream",
     "text": [
      "[Parallel(n_jobs=1)]: Done   1 out of   1 | elapsed:    1.6s remaining:    0.0s\n"
     ]
    },
    {
     "name": "stdout",
     "output_type": "stream",
     "text": [
      "[CV]  n_estimators=60, base_estimator__criterion=gini, base_estimator__max_depth=1, algorithm=SAMME, base_estimator__splitter=best, total=   1.7s\n",
      "[CV] n_estimators=60, base_estimator__criterion=gini, base_estimator__max_depth=1, algorithm=SAMME, base_estimator__splitter=best \n",
      "[CV]  n_estimators=60, base_estimator__criterion=gini, base_estimator__max_depth=1, algorithm=SAMME, base_estimator__splitter=best, total=   2.0s\n",
      "[CV] n_estimators=60, base_estimator__criterion=gini, base_estimator__max_depth=1, algorithm=SAMME, base_estimator__splitter=random \n",
      "[CV]  n_estimators=60, base_estimator__criterion=gini, base_estimator__max_depth=1, algorithm=SAMME, base_estimator__splitter=random, total=   1.4s\n",
      "[CV] n_estimators=60, base_estimator__criterion=gini, base_estimator__max_depth=1, algorithm=SAMME, base_estimator__splitter=random \n",
      "[CV]  n_estimators=60, base_estimator__criterion=gini, base_estimator__max_depth=1, algorithm=SAMME, base_estimator__splitter=random, total=   1.3s\n",
      "[CV] n_estimators=60, base_estimator__criterion=gini, base_estimator__max_depth=1, algorithm=SAMME, base_estimator__splitter=random \n",
      "[CV]  n_estimators=60, base_estimator__criterion=gini, base_estimator__max_depth=1, algorithm=SAMME, base_estimator__splitter=random, total=   1.3s\n",
      "[CV] n_estimators=60, base_estimator__criterion=gini, base_estimator__max_depth=2, algorithm=SAMME, base_estimator__splitter=best \n",
      "[CV]  n_estimators=60, base_estimator__criterion=gini, base_estimator__max_depth=2, algorithm=SAMME, base_estimator__splitter=best, total=   2.5s\n",
      "[CV] n_estimators=60, base_estimator__criterion=gini, base_estimator__max_depth=2, algorithm=SAMME, base_estimator__splitter=best \n",
      "[CV]  n_estimators=60, base_estimator__criterion=gini, base_estimator__max_depth=2, algorithm=SAMME, base_estimator__splitter=best, total=   2.3s\n",
      "[CV] n_estimators=60, base_estimator__criterion=gini, base_estimator__max_depth=2, algorithm=SAMME, base_estimator__splitter=best \n",
      "[CV]  n_estimators=60, base_estimator__criterion=gini, base_estimator__max_depth=2, algorithm=SAMME, base_estimator__splitter=best, total=   2.2s\n",
      "[CV] n_estimators=60, base_estimator__criterion=gini, base_estimator__max_depth=2, algorithm=SAMME, base_estimator__splitter=random \n",
      "[CV]  n_estimators=60, base_estimator__criterion=gini, base_estimator__max_depth=2, algorithm=SAMME, base_estimator__splitter=random, total=   2.0s\n",
      "[CV] n_estimators=60, base_estimator__criterion=gini, base_estimator__max_depth=2, algorithm=SAMME, base_estimator__splitter=random \n",
      "[CV]  n_estimators=60, base_estimator__criterion=gini, base_estimator__max_depth=2, algorithm=SAMME, base_estimator__splitter=random, total=   2.2s\n",
      "[CV] n_estimators=60, base_estimator__criterion=gini, base_estimator__max_depth=2, algorithm=SAMME, base_estimator__splitter=random \n",
      "[CV]  n_estimators=60, base_estimator__criterion=gini, base_estimator__max_depth=2, algorithm=SAMME, base_estimator__splitter=random, total=   2.0s\n",
      "[CV] n_estimators=60, base_estimator__criterion=gini, base_estimator__max_depth=3, algorithm=SAMME, base_estimator__splitter=best \n",
      "[CV]  n_estimators=60, base_estimator__criterion=gini, base_estimator__max_depth=3, algorithm=SAMME, base_estimator__splitter=best, total=   3.3s\n",
      "[CV] n_estimators=60, base_estimator__criterion=gini, base_estimator__max_depth=3, algorithm=SAMME, base_estimator__splitter=best \n",
      "[CV]  n_estimators=60, base_estimator__criterion=gini, base_estimator__max_depth=3, algorithm=SAMME, base_estimator__splitter=best, total=   3.1s\n",
      "[CV] n_estimators=60, base_estimator__criterion=gini, base_estimator__max_depth=3, algorithm=SAMME, base_estimator__splitter=best \n",
      "[CV]  n_estimators=60, base_estimator__criterion=gini, base_estimator__max_depth=3, algorithm=SAMME, base_estimator__splitter=best, total=   3.1s\n",
      "[CV] n_estimators=60, base_estimator__criterion=gini, base_estimator__max_depth=3, algorithm=SAMME, base_estimator__splitter=random \n",
      "[CV]  n_estimators=60, base_estimator__criterion=gini, base_estimator__max_depth=3, algorithm=SAMME, base_estimator__splitter=random, total=   2.7s\n",
      "[CV] n_estimators=60, base_estimator__criterion=gini, base_estimator__max_depth=3, algorithm=SAMME, base_estimator__splitter=random \n",
      "[CV]  n_estimators=60, base_estimator__criterion=gini, base_estimator__max_depth=3, algorithm=SAMME, base_estimator__splitter=random, total=   2.6s\n",
      "[CV] n_estimators=60, base_estimator__criterion=gini, base_estimator__max_depth=3, algorithm=SAMME, base_estimator__splitter=random \n",
      "[CV]  n_estimators=60, base_estimator__criterion=gini, base_estimator__max_depth=3, algorithm=SAMME, base_estimator__splitter=random, total=   3.0s\n",
      "[CV] n_estimators=60, base_estimator__criterion=gini, base_estimator__max_depth=6, algorithm=SAMME, base_estimator__splitter=best \n",
      "[CV]  n_estimators=60, base_estimator__criterion=gini, base_estimator__max_depth=6, algorithm=SAMME, base_estimator__splitter=best, total=   7.2s\n",
      "[CV] n_estimators=60, base_estimator__criterion=gini, base_estimator__max_depth=6, algorithm=SAMME, base_estimator__splitter=best \n",
      "[CV]  n_estimators=60, base_estimator__criterion=gini, base_estimator__max_depth=6, algorithm=SAMME, base_estimator__splitter=best, total=   6.5s\n",
      "[CV] n_estimators=60, base_estimator__criterion=gini, base_estimator__max_depth=6, algorithm=SAMME, base_estimator__splitter=best \n",
      "[CV]  n_estimators=60, base_estimator__criterion=gini, base_estimator__max_depth=6, algorithm=SAMME, base_estimator__splitter=best, total=   6.5s\n",
      "[CV] n_estimators=60, base_estimator__criterion=gini, base_estimator__max_depth=6, algorithm=SAMME, base_estimator__splitter=random \n",
      "[CV]  n_estimators=60, base_estimator__criterion=gini, base_estimator__max_depth=6, algorithm=SAMME, base_estimator__splitter=random, total=   7.2s\n",
      "[CV] n_estimators=60, base_estimator__criterion=gini, base_estimator__max_depth=6, algorithm=SAMME, base_estimator__splitter=random \n",
      "[CV]  n_estimators=60, base_estimator__criterion=gini, base_estimator__max_depth=6, algorithm=SAMME, base_estimator__splitter=random, total=   5.1s\n",
      "[CV] n_estimators=60, base_estimator__criterion=gini, base_estimator__max_depth=6, algorithm=SAMME, base_estimator__splitter=random \n",
      "[CV]  n_estimators=60, base_estimator__criterion=gini, base_estimator__max_depth=6, algorithm=SAMME, base_estimator__splitter=random, total=   5.2s\n",
      "[CV] n_estimators=60, base_estimator__criterion=gini, base_estimator__max_depth=9, algorithm=SAMME, base_estimator__splitter=best \n",
      "[CV]  n_estimators=60, base_estimator__criterion=gini, base_estimator__max_depth=9, algorithm=SAMME, base_estimator__splitter=best, total=  17.8s\n",
      "[CV] n_estimators=60, base_estimator__criterion=gini, base_estimator__max_depth=9, algorithm=SAMME, base_estimator__splitter=best \n",
      "[CV]  n_estimators=60, base_estimator__criterion=gini, base_estimator__max_depth=9, algorithm=SAMME, base_estimator__splitter=best, total=  11.3s\n",
      "[CV] n_estimators=60, base_estimator__criterion=gini, base_estimator__max_depth=9, algorithm=SAMME, base_estimator__splitter=best \n",
      "[CV]  n_estimators=60, base_estimator__criterion=gini, base_estimator__max_depth=9, algorithm=SAMME, base_estimator__splitter=best, total=  10.3s\n",
      "[CV] n_estimators=60, base_estimator__criterion=gini, base_estimator__max_depth=9, algorithm=SAMME, base_estimator__splitter=random \n",
      "[CV]  n_estimators=60, base_estimator__criterion=gini, base_estimator__max_depth=9, algorithm=SAMME, base_estimator__splitter=random, total=  10.1s\n",
      "[CV] n_estimators=60, base_estimator__criterion=gini, base_estimator__max_depth=9, algorithm=SAMME, base_estimator__splitter=random \n",
      "[CV]  n_estimators=60, base_estimator__criterion=gini, base_estimator__max_depth=9, algorithm=SAMME, base_estimator__splitter=random, total=  12.0s\n",
      "[CV] n_estimators=60, base_estimator__criterion=gini, base_estimator__max_depth=9, algorithm=SAMME, base_estimator__splitter=random \n",
      "[CV]  n_estimators=60, base_estimator__criterion=gini, base_estimator__max_depth=9, algorithm=SAMME, base_estimator__splitter=random, total=   7.8s\n",
      "[CV] n_estimators=60, base_estimator__criterion=entropy, base_estimator__max_depth=1, algorithm=SAMME, base_estimator__splitter=best \n",
      "[CV]  n_estimators=60, base_estimator__criterion=entropy, base_estimator__max_depth=1, algorithm=SAMME, base_estimator__splitter=best, total=   1.7s\n",
      "[CV] n_estimators=60, base_estimator__criterion=entropy, base_estimator__max_depth=1, algorithm=SAMME, base_estimator__splitter=best \n",
      "[CV]  n_estimators=60, base_estimator__criterion=entropy, base_estimator__max_depth=1, algorithm=SAMME, base_estimator__splitter=best, total=   1.9s\n",
      "[CV] n_estimators=60, base_estimator__criterion=entropy, base_estimator__max_depth=1, algorithm=SAMME, base_estimator__splitter=best \n",
      "[CV]  n_estimators=60, base_estimator__criterion=entropy, base_estimator__max_depth=1, algorithm=SAMME, base_estimator__splitter=best, total=   2.2s\n",
      "[CV] n_estimators=60, base_estimator__criterion=entropy, base_estimator__max_depth=1, algorithm=SAMME, base_estimator__splitter=random \n",
      "[CV]  n_estimators=60, base_estimator__criterion=entropy, base_estimator__max_depth=1, algorithm=SAMME, base_estimator__splitter=random, total=   1.8s\n",
      "[CV] n_estimators=60, base_estimator__criterion=entropy, base_estimator__max_depth=1, algorithm=SAMME, base_estimator__splitter=random \n",
      "[CV]  n_estimators=60, base_estimator__criterion=entropy, base_estimator__max_depth=1, algorithm=SAMME, base_estimator__splitter=random, total=   2.1s\n",
      "[CV] n_estimators=60, base_estimator__criterion=entropy, base_estimator__max_depth=1, algorithm=SAMME, base_estimator__splitter=random \n",
      "[CV]  n_estimators=60, base_estimator__criterion=entropy, base_estimator__max_depth=1, algorithm=SAMME, base_estimator__splitter=random, total=   3.1s\n",
      "[CV] n_estimators=60, base_estimator__criterion=entropy, base_estimator__max_depth=2, algorithm=SAMME, base_estimator__splitter=best \n",
      "[CV]  n_estimators=60, base_estimator__criterion=entropy, base_estimator__max_depth=2, algorithm=SAMME, base_estimator__splitter=best, total=   2.9s\n",
      "[CV] n_estimators=60, base_estimator__criterion=entropy, base_estimator__max_depth=2, algorithm=SAMME, base_estimator__splitter=best \n",
      "[CV]  n_estimators=60, base_estimator__criterion=entropy, base_estimator__max_depth=2, algorithm=SAMME, base_estimator__splitter=best, total=   2.9s\n",
      "[CV] n_estimators=60, base_estimator__criterion=entropy, base_estimator__max_depth=2, algorithm=SAMME, base_estimator__splitter=best \n",
      "[CV]  n_estimators=60, base_estimator__criterion=entropy, base_estimator__max_depth=2, algorithm=SAMME, base_estimator__splitter=best, total=   3.2s\n",
      "[CV] n_estimators=60, base_estimator__criterion=entropy, base_estimator__max_depth=2, algorithm=SAMME, base_estimator__splitter=random \n",
      "[CV]  n_estimators=60, base_estimator__criterion=entropy, base_estimator__max_depth=2, algorithm=SAMME, base_estimator__splitter=random, total=   3.4s\n",
      "[CV] n_estimators=60, base_estimator__criterion=entropy, base_estimator__max_depth=2, algorithm=SAMME, base_estimator__splitter=random \n",
      "[CV]  n_estimators=60, base_estimator__criterion=entropy, base_estimator__max_depth=2, algorithm=SAMME, base_estimator__splitter=random, total=   2.5s\n",
      "[CV] n_estimators=60, base_estimator__criterion=entropy, base_estimator__max_depth=2, algorithm=SAMME, base_estimator__splitter=random \n",
      "[CV]  n_estimators=60, base_estimator__criterion=entropy, base_estimator__max_depth=2, algorithm=SAMME, base_estimator__splitter=random, total=   3.2s\n",
      "[CV] n_estimators=60, base_estimator__criterion=entropy, base_estimator__max_depth=3, algorithm=SAMME, base_estimator__splitter=best \n",
      "[CV]  n_estimators=60, base_estimator__criterion=entropy, base_estimator__max_depth=3, algorithm=SAMME, base_estimator__splitter=best, total=   4.9s\n",
      "[CV] n_estimators=60, base_estimator__criterion=entropy, base_estimator__max_depth=3, algorithm=SAMME, base_estimator__splitter=best \n",
      "[CV]  n_estimators=60, base_estimator__criterion=entropy, base_estimator__max_depth=3, algorithm=SAMME, base_estimator__splitter=best, total=   3.2s\n",
      "[CV] n_estimators=60, base_estimator__criterion=entropy, base_estimator__max_depth=3, algorithm=SAMME, base_estimator__splitter=best \n",
      "[CV]  n_estimators=60, base_estimator__criterion=entropy, base_estimator__max_depth=3, algorithm=SAMME, base_estimator__splitter=best, total=   3.4s\n",
      "[CV] n_estimators=60, base_estimator__criterion=entropy, base_estimator__max_depth=3, algorithm=SAMME, base_estimator__splitter=random \n",
      "[CV]  n_estimators=60, base_estimator__criterion=entropy, base_estimator__max_depth=3, algorithm=SAMME, base_estimator__splitter=random, total=   3.8s\n",
      "[CV] n_estimators=60, base_estimator__criterion=entropy, base_estimator__max_depth=3, algorithm=SAMME, base_estimator__splitter=random \n",
      "[CV]  n_estimators=60, base_estimator__criterion=entropy, base_estimator__max_depth=3, algorithm=SAMME, base_estimator__splitter=random, total=   3.1s\n",
      "[CV] n_estimators=60, base_estimator__criterion=entropy, base_estimator__max_depth=3, algorithm=SAMME, base_estimator__splitter=random \n",
      "[CV]  n_estimators=60, base_estimator__criterion=entropy, base_estimator__max_depth=3, algorithm=SAMME, base_estimator__splitter=random, total=   3.3s\n",
      "[CV] n_estimators=60, base_estimator__criterion=entropy, base_estimator__max_depth=6, algorithm=SAMME, base_estimator__splitter=best \n",
      "[CV]  n_estimators=60, base_estimator__criterion=entropy, base_estimator__max_depth=6, algorithm=SAMME, base_estimator__splitter=best, total=   6.1s\n",
      "[CV] n_estimators=60, base_estimator__criterion=entropy, base_estimator__max_depth=6, algorithm=SAMME, base_estimator__splitter=best \n",
      "[CV]  n_estimators=60, base_estimator__criterion=entropy, base_estimator__max_depth=6, algorithm=SAMME, base_estimator__splitter=best, total=   7.0s\n",
      "[CV] n_estimators=60, base_estimator__criterion=entropy, base_estimator__max_depth=6, algorithm=SAMME, base_estimator__splitter=best \n",
      "[CV]  n_estimators=60, base_estimator__criterion=entropy, base_estimator__max_depth=6, algorithm=SAMME, base_estimator__splitter=best, total=   5.5s\n",
      "[CV] n_estimators=60, base_estimator__criterion=entropy, base_estimator__max_depth=6, algorithm=SAMME, base_estimator__splitter=random \n",
      "[CV]  n_estimators=60, base_estimator__criterion=entropy, base_estimator__max_depth=6, algorithm=SAMME, base_estimator__splitter=random, total=   5.0s\n",
      "[CV] n_estimators=60, base_estimator__criterion=entropy, base_estimator__max_depth=6, algorithm=SAMME, base_estimator__splitter=random \n",
      "[CV]  n_estimators=60, base_estimator__criterion=entropy, base_estimator__max_depth=6, algorithm=SAMME, base_estimator__splitter=random, total=   4.7s\n",
      "[CV] n_estimators=60, base_estimator__criterion=entropy, base_estimator__max_depth=6, algorithm=SAMME, base_estimator__splitter=random \n",
      "[CV]  n_estimators=60, base_estimator__criterion=entropy, base_estimator__max_depth=6, algorithm=SAMME, base_estimator__splitter=random, total=   4.9s\n",
      "[CV] n_estimators=60, base_estimator__criterion=entropy, base_estimator__max_depth=9, algorithm=SAMME, base_estimator__splitter=best \n",
      "[CV]  n_estimators=60, base_estimator__criterion=entropy, base_estimator__max_depth=9, algorithm=SAMME, base_estimator__splitter=best, total=   7.8s\n",
      "[CV] n_estimators=60, base_estimator__criterion=entropy, base_estimator__max_depth=9, algorithm=SAMME, base_estimator__splitter=best \n",
      "[CV]  n_estimators=60, base_estimator__criterion=entropy, base_estimator__max_depth=9, algorithm=SAMME, base_estimator__splitter=best, total=   7.9s\n",
      "[CV] n_estimators=60, base_estimator__criterion=entropy, base_estimator__max_depth=9, algorithm=SAMME, base_estimator__splitter=best \n",
      "[CV]  n_estimators=60, base_estimator__criterion=entropy, base_estimator__max_depth=9, algorithm=SAMME, base_estimator__splitter=best, total=   9.4s\n",
      "[CV] n_estimators=60, base_estimator__criterion=entropy, base_estimator__max_depth=9, algorithm=SAMME, base_estimator__splitter=random \n",
      "[CV]  n_estimators=60, base_estimator__criterion=entropy, base_estimator__max_depth=9, algorithm=SAMME, base_estimator__splitter=random, total=  10.0s\n",
      "[CV] n_estimators=60, base_estimator__criterion=entropy, base_estimator__max_depth=9, algorithm=SAMME, base_estimator__splitter=random \n",
      "[CV]  n_estimators=60, base_estimator__criterion=entropy, base_estimator__max_depth=9, algorithm=SAMME, base_estimator__splitter=random, total=   9.2s\n",
      "[CV] n_estimators=60, base_estimator__criterion=entropy, base_estimator__max_depth=9, algorithm=SAMME, base_estimator__splitter=random \n",
      "[CV]  n_estimators=60, base_estimator__criterion=entropy, base_estimator__max_depth=9, algorithm=SAMME, base_estimator__splitter=random, total=  12.7s\n",
      "[CV] n_estimators=60, base_estimator__criterion=gini, base_estimator__max_depth=1, algorithm=SAMME.R, base_estimator__splitter=best \n",
      "[CV]  n_estimators=60, base_estimator__criterion=gini, base_estimator__max_depth=1, algorithm=SAMME.R, base_estimator__splitter=best, total=   1.8s\n",
      "[CV] n_estimators=60, base_estimator__criterion=gini, base_estimator__max_depth=1, algorithm=SAMME.R, base_estimator__splitter=best \n",
      "[CV]  n_estimators=60, base_estimator__criterion=gini, base_estimator__max_depth=1, algorithm=SAMME.R, base_estimator__splitter=best, total=   2.0s\n",
      "[CV] n_estimators=60, base_estimator__criterion=gini, base_estimator__max_depth=1, algorithm=SAMME.R, base_estimator__splitter=best \n",
      "[CV]  n_estimators=60, base_estimator__criterion=gini, base_estimator__max_depth=1, algorithm=SAMME.R, base_estimator__splitter=best, total=   2.0s\n",
      "[CV] n_estimators=60, base_estimator__criterion=gini, base_estimator__max_depth=1, algorithm=SAMME.R, base_estimator__splitter=random \n",
      "[CV]  n_estimators=60, base_estimator__criterion=gini, base_estimator__max_depth=1, algorithm=SAMME.R, base_estimator__splitter=random, total=   1.6s\n",
      "[CV] n_estimators=60, base_estimator__criterion=gini, base_estimator__max_depth=1, algorithm=SAMME.R, base_estimator__splitter=random \n",
      "[CV]  n_estimators=60, base_estimator__criterion=gini, base_estimator__max_depth=1, algorithm=SAMME.R, base_estimator__splitter=random, total=   1.7s\n",
      "[CV] n_estimators=60, base_estimator__criterion=gini, base_estimator__max_depth=1, algorithm=SAMME.R, base_estimator__splitter=random \n",
      "[CV]  n_estimators=60, base_estimator__criterion=gini, base_estimator__max_depth=1, algorithm=SAMME.R, base_estimator__splitter=random, total=   1.6s\n",
      "[CV] n_estimators=60, base_estimator__criterion=gini, base_estimator__max_depth=2, algorithm=SAMME.R, base_estimator__splitter=best \n",
      "[CV]  n_estimators=60, base_estimator__criterion=gini, base_estimator__max_depth=2, algorithm=SAMME.R, base_estimator__splitter=best, total=   3.0s\n",
      "[CV] n_estimators=60, base_estimator__criterion=gini, base_estimator__max_depth=2, algorithm=SAMME.R, base_estimator__splitter=best \n",
      "[CV]  n_estimators=60, base_estimator__criterion=gini, base_estimator__max_depth=2, algorithm=SAMME.R, base_estimator__splitter=best, total=   2.7s\n",
      "[CV] n_estimators=60, base_estimator__criterion=gini, base_estimator__max_depth=2, algorithm=SAMME.R, base_estimator__splitter=best \n",
      "[CV]  n_estimators=60, base_estimator__criterion=gini, base_estimator__max_depth=2, algorithm=SAMME.R, base_estimator__splitter=best, total=   3.5s\n",
      "[CV] n_estimators=60, base_estimator__criterion=gini, base_estimator__max_depth=2, algorithm=SAMME.R, base_estimator__splitter=random \n",
      "[CV]  n_estimators=60, base_estimator__criterion=gini, base_estimator__max_depth=2, algorithm=SAMME.R, base_estimator__splitter=random, total=   5.1s\n",
      "[CV] n_estimators=60, base_estimator__criterion=gini, base_estimator__max_depth=2, algorithm=SAMME.R, base_estimator__splitter=random \n",
      "[CV]  n_estimators=60, base_estimator__criterion=gini, base_estimator__max_depth=2, algorithm=SAMME.R, base_estimator__splitter=random, total=   2.6s\n",
      "[CV] n_estimators=60, base_estimator__criterion=gini, base_estimator__max_depth=2, algorithm=SAMME.R, base_estimator__splitter=random \n",
      "[CV]  n_estimators=60, base_estimator__criterion=gini, base_estimator__max_depth=2, algorithm=SAMME.R, base_estimator__splitter=random, total=   2.2s\n",
      "[CV] n_estimators=60, base_estimator__criterion=gini, base_estimator__max_depth=3, algorithm=SAMME.R, base_estimator__splitter=best \n",
      "[CV]  n_estimators=60, base_estimator__criterion=gini, base_estimator__max_depth=3, algorithm=SAMME.R, base_estimator__splitter=best, total=   3.7s\n",
      "[CV] n_estimators=60, base_estimator__criterion=gini, base_estimator__max_depth=3, algorithm=SAMME.R, base_estimator__splitter=best \n",
      "[CV]  n_estimators=60, base_estimator__criterion=gini, base_estimator__max_depth=3, algorithm=SAMME.R, base_estimator__splitter=best, total=  15.4s\n",
      "[CV] n_estimators=60, base_estimator__criterion=gini, base_estimator__max_depth=3, algorithm=SAMME.R, base_estimator__splitter=best \n",
      "[CV]  n_estimators=60, base_estimator__criterion=gini, base_estimator__max_depth=3, algorithm=SAMME.R, base_estimator__splitter=best, total=   5.9s\n",
      "[CV] n_estimators=60, base_estimator__criterion=gini, base_estimator__max_depth=3, algorithm=SAMME.R, base_estimator__splitter=random \n",
      "[CV]  n_estimators=60, base_estimator__criterion=gini, base_estimator__max_depth=3, algorithm=SAMME.R, base_estimator__splitter=random, total=   4.8s\n",
      "[CV] n_estimators=60, base_estimator__criterion=gini, base_estimator__max_depth=3, algorithm=SAMME.R, base_estimator__splitter=random \n",
      "[CV]  n_estimators=60, base_estimator__criterion=gini, base_estimator__max_depth=3, algorithm=SAMME.R, base_estimator__splitter=random, total=   5.9s\n",
      "[CV] n_estimators=60, base_estimator__criterion=gini, base_estimator__max_depth=3, algorithm=SAMME.R, base_estimator__splitter=random \n",
      "[CV]  n_estimators=60, base_estimator__criterion=gini, base_estimator__max_depth=3, algorithm=SAMME.R, base_estimator__splitter=random, total=   3.6s\n",
      "[CV] n_estimators=60, base_estimator__criterion=gini, base_estimator__max_depth=6, algorithm=SAMME.R, base_estimator__splitter=best \n",
      "[CV]  n_estimators=60, base_estimator__criterion=gini, base_estimator__max_depth=6, algorithm=SAMME.R, base_estimator__splitter=best, total=   9.5s\n",
      "[CV] n_estimators=60, base_estimator__criterion=gini, base_estimator__max_depth=6, algorithm=SAMME.R, base_estimator__splitter=best \n",
      "[CV]  n_estimators=60, base_estimator__criterion=gini, base_estimator__max_depth=6, algorithm=SAMME.R, base_estimator__splitter=best, total=  11.5s\n",
      "[CV] n_estimators=60, base_estimator__criterion=gini, base_estimator__max_depth=6, algorithm=SAMME.R, base_estimator__splitter=best \n",
      "[CV]  n_estimators=60, base_estimator__criterion=gini, base_estimator__max_depth=6, algorithm=SAMME.R, base_estimator__splitter=best, total=   8.4s\n",
      "[CV] n_estimators=60, base_estimator__criterion=gini, base_estimator__max_depth=6, algorithm=SAMME.R, base_estimator__splitter=random \n",
      "[CV]  n_estimators=60, base_estimator__criterion=gini, base_estimator__max_depth=6, algorithm=SAMME.R, base_estimator__splitter=random, total=   7.2s\n",
      "[CV] n_estimators=60, base_estimator__criterion=gini, base_estimator__max_depth=6, algorithm=SAMME.R, base_estimator__splitter=random \n",
      "[CV]  n_estimators=60, base_estimator__criterion=gini, base_estimator__max_depth=6, algorithm=SAMME.R, base_estimator__splitter=random, total=   7.2s\n",
      "[CV] n_estimators=60, base_estimator__criterion=gini, base_estimator__max_depth=6, algorithm=SAMME.R, base_estimator__splitter=random \n",
      "[CV]  n_estimators=60, base_estimator__criterion=gini, base_estimator__max_depth=6, algorithm=SAMME.R, base_estimator__splitter=random, total=   8.5s\n",
      "[CV] n_estimators=60, base_estimator__criterion=gini, base_estimator__max_depth=9, algorithm=SAMME.R, base_estimator__splitter=best \n",
      "[CV]  n_estimators=60, base_estimator__criterion=gini, base_estimator__max_depth=9, algorithm=SAMME.R, base_estimator__splitter=best, total=  14.4s\n",
      "[CV] n_estimators=60, base_estimator__criterion=gini, base_estimator__max_depth=9, algorithm=SAMME.R, base_estimator__splitter=best \n",
      "[CV]  n_estimators=60, base_estimator__criterion=gini, base_estimator__max_depth=9, algorithm=SAMME.R, base_estimator__splitter=best, total=  14.3s\n",
      "[CV] n_estimators=60, base_estimator__criterion=gini, base_estimator__max_depth=9, algorithm=SAMME.R, base_estimator__splitter=best \n",
      "[CV]  n_estimators=60, base_estimator__criterion=gini, base_estimator__max_depth=9, algorithm=SAMME.R, base_estimator__splitter=best, total=  12.4s\n",
      "[CV] n_estimators=60, base_estimator__criterion=gini, base_estimator__max_depth=9, algorithm=SAMME.R, base_estimator__splitter=random \n",
      "[CV]  n_estimators=60, base_estimator__criterion=gini, base_estimator__max_depth=9, algorithm=SAMME.R, base_estimator__splitter=random, total=  10.5s\n",
      "[CV] n_estimators=60, base_estimator__criterion=gini, base_estimator__max_depth=9, algorithm=SAMME.R, base_estimator__splitter=random \n",
      "[CV]  n_estimators=60, base_estimator__criterion=gini, base_estimator__max_depth=9, algorithm=SAMME.R, base_estimator__splitter=random, total=   8.1s\n",
      "[CV] n_estimators=60, base_estimator__criterion=gini, base_estimator__max_depth=9, algorithm=SAMME.R, base_estimator__splitter=random \n",
      "[CV]  n_estimators=60, base_estimator__criterion=gini, base_estimator__max_depth=9, algorithm=SAMME.R, base_estimator__splitter=random, total=   8.7s\n",
      "[CV] n_estimators=60, base_estimator__criterion=entropy, base_estimator__max_depth=1, algorithm=SAMME.R, base_estimator__splitter=best \n",
      "[CV]  n_estimators=60, base_estimator__criterion=entropy, base_estimator__max_depth=1, algorithm=SAMME.R, base_estimator__splitter=best, total=   1.7s\n",
      "[CV] n_estimators=60, base_estimator__criterion=entropy, base_estimator__max_depth=1, algorithm=SAMME.R, base_estimator__splitter=best \n",
      "[CV]  n_estimators=60, base_estimator__criterion=entropy, base_estimator__max_depth=1, algorithm=SAMME.R, base_estimator__splitter=best, total=   2.0s\n",
      "[CV] n_estimators=60, base_estimator__criterion=entropy, base_estimator__max_depth=1, algorithm=SAMME.R, base_estimator__splitter=best \n",
      "[CV]  n_estimators=60, base_estimator__criterion=entropy, base_estimator__max_depth=1, algorithm=SAMME.R, base_estimator__splitter=best, total=   1.7s\n",
      "[CV] n_estimators=60, base_estimator__criterion=entropy, base_estimator__max_depth=1, algorithm=SAMME.R, base_estimator__splitter=random \n",
      "[CV]  n_estimators=60, base_estimator__criterion=entropy, base_estimator__max_depth=1, algorithm=SAMME.R, base_estimator__splitter=random, total=   1.8s\n",
      "[CV] n_estimators=60, base_estimator__criterion=entropy, base_estimator__max_depth=1, algorithm=SAMME.R, base_estimator__splitter=random \n",
      "[CV]  n_estimators=60, base_estimator__criterion=entropy, base_estimator__max_depth=1, algorithm=SAMME.R, base_estimator__splitter=random, total=   1.6s\n",
      "[CV] n_estimators=60, base_estimator__criterion=entropy, base_estimator__max_depth=1, algorithm=SAMME.R, base_estimator__splitter=random \n",
      "[CV]  n_estimators=60, base_estimator__criterion=entropy, base_estimator__max_depth=1, algorithm=SAMME.R, base_estimator__splitter=random, total=   1.5s\n",
      "[CV] n_estimators=60, base_estimator__criterion=entropy, base_estimator__max_depth=2, algorithm=SAMME.R, base_estimator__splitter=best \n",
      "[CV]  n_estimators=60, base_estimator__criterion=entropy, base_estimator__max_depth=2, algorithm=SAMME.R, base_estimator__splitter=best, total=   3.1s\n",
      "[CV] n_estimators=60, base_estimator__criterion=entropy, base_estimator__max_depth=2, algorithm=SAMME.R, base_estimator__splitter=best \n",
      "[CV]  n_estimators=60, base_estimator__criterion=entropy, base_estimator__max_depth=2, algorithm=SAMME.R, base_estimator__splitter=best, total=   3.2s\n",
      "[CV] n_estimators=60, base_estimator__criterion=entropy, base_estimator__max_depth=2, algorithm=SAMME.R, base_estimator__splitter=best \n",
      "[CV]  n_estimators=60, base_estimator__criterion=entropy, base_estimator__max_depth=2, algorithm=SAMME.R, base_estimator__splitter=best, total=   2.4s\n",
      "[CV] n_estimators=60, base_estimator__criterion=entropy, base_estimator__max_depth=2, algorithm=SAMME.R, base_estimator__splitter=random \n",
      "[CV]  n_estimators=60, base_estimator__criterion=entropy, base_estimator__max_depth=2, algorithm=SAMME.R, base_estimator__splitter=random, total=   2.3s\n",
      "[CV] n_estimators=60, base_estimator__criterion=entropy, base_estimator__max_depth=2, algorithm=SAMME.R, base_estimator__splitter=random \n",
      "[CV]  n_estimators=60, base_estimator__criterion=entropy, base_estimator__max_depth=2, algorithm=SAMME.R, base_estimator__splitter=random, total=   2.4s\n",
      "[CV] n_estimators=60, base_estimator__criterion=entropy, base_estimator__max_depth=2, algorithm=SAMME.R, base_estimator__splitter=random \n",
      "[CV]  n_estimators=60, base_estimator__criterion=entropy, base_estimator__max_depth=2, algorithm=SAMME.R, base_estimator__splitter=random, total=   3.8s\n",
      "[CV] n_estimators=60, base_estimator__criterion=entropy, base_estimator__max_depth=3, algorithm=SAMME.R, base_estimator__splitter=best \n",
      "[CV]  n_estimators=60, base_estimator__criterion=entropy, base_estimator__max_depth=3, algorithm=SAMME.R, base_estimator__splitter=best, total=   8.1s\n",
      "[CV] n_estimators=60, base_estimator__criterion=entropy, base_estimator__max_depth=3, algorithm=SAMME.R, base_estimator__splitter=best \n",
      "[CV]  n_estimators=60, base_estimator__criterion=entropy, base_estimator__max_depth=3, algorithm=SAMME.R, base_estimator__splitter=best, total=   5.4s\n",
      "[CV] n_estimators=60, base_estimator__criterion=entropy, base_estimator__max_depth=3, algorithm=SAMME.R, base_estimator__splitter=best \n",
      "[CV]  n_estimators=60, base_estimator__criterion=entropy, base_estimator__max_depth=3, algorithm=SAMME.R, base_estimator__splitter=best, total=   3.6s\n",
      "[CV] n_estimators=60, base_estimator__criterion=entropy, base_estimator__max_depth=3, algorithm=SAMME.R, base_estimator__splitter=random \n",
      "[CV]  n_estimators=60, base_estimator__criterion=entropy, base_estimator__max_depth=3, algorithm=SAMME.R, base_estimator__splitter=random, total=   2.9s\n",
      "[CV] n_estimators=60, base_estimator__criterion=entropy, base_estimator__max_depth=3, algorithm=SAMME.R, base_estimator__splitter=random \n",
      "[CV]  n_estimators=60, base_estimator__criterion=entropy, base_estimator__max_depth=3, algorithm=SAMME.R, base_estimator__splitter=random, total=   3.3s\n",
      "[CV] n_estimators=60, base_estimator__criterion=entropy, base_estimator__max_depth=3, algorithm=SAMME.R, base_estimator__splitter=random \n",
      "[CV]  n_estimators=60, base_estimator__criterion=entropy, base_estimator__max_depth=3, algorithm=SAMME.R, base_estimator__splitter=random, total=   3.9s\n",
      "[CV] n_estimators=60, base_estimator__criterion=entropy, base_estimator__max_depth=6, algorithm=SAMME.R, base_estimator__splitter=best \n",
      "[CV]  n_estimators=60, base_estimator__criterion=entropy, base_estimator__max_depth=6, algorithm=SAMME.R, base_estimator__splitter=best, total=   6.4s\n",
      "[CV] n_estimators=60, base_estimator__criterion=entropy, base_estimator__max_depth=6, algorithm=SAMME.R, base_estimator__splitter=best \n",
      "[CV]  n_estimators=60, base_estimator__criterion=entropy, base_estimator__max_depth=6, algorithm=SAMME.R, base_estimator__splitter=best, total=   5.9s\n",
      "[CV] n_estimators=60, base_estimator__criterion=entropy, base_estimator__max_depth=6, algorithm=SAMME.R, base_estimator__splitter=best \n",
      "[CV]  n_estimators=60, base_estimator__criterion=entropy, base_estimator__max_depth=6, algorithm=SAMME.R, base_estimator__splitter=best, total=   5.9s\n",
      "[CV] n_estimators=60, base_estimator__criterion=entropy, base_estimator__max_depth=6, algorithm=SAMME.R, base_estimator__splitter=random \n",
      "[CV]  n_estimators=60, base_estimator__criterion=entropy, base_estimator__max_depth=6, algorithm=SAMME.R, base_estimator__splitter=random, total=   6.7s\n",
      "[CV] n_estimators=60, base_estimator__criterion=entropy, base_estimator__max_depth=6, algorithm=SAMME.R, base_estimator__splitter=random \n",
      "[CV]  n_estimators=60, base_estimator__criterion=entropy, base_estimator__max_depth=6, algorithm=SAMME.R, base_estimator__splitter=random, total=   6.7s\n",
      "[CV] n_estimators=60, base_estimator__criterion=entropy, base_estimator__max_depth=6, algorithm=SAMME.R, base_estimator__splitter=random \n",
      "[CV]  n_estimators=60, base_estimator__criterion=entropy, base_estimator__max_depth=6, algorithm=SAMME.R, base_estimator__splitter=random, total=   6.5s\n",
      "[CV] n_estimators=60, base_estimator__criterion=entropy, base_estimator__max_depth=9, algorithm=SAMME.R, base_estimator__splitter=best \n",
      "[CV]  n_estimators=60, base_estimator__criterion=entropy, base_estimator__max_depth=9, algorithm=SAMME.R, base_estimator__splitter=best, total=  13.4s\n",
      "[CV] n_estimators=60, base_estimator__criterion=entropy, base_estimator__max_depth=9, algorithm=SAMME.R, base_estimator__splitter=best \n",
      "[CV]  n_estimators=60, base_estimator__criterion=entropy, base_estimator__max_depth=9, algorithm=SAMME.R, base_estimator__splitter=best, total=   9.6s\n",
      "[CV] n_estimators=60, base_estimator__criterion=entropy, base_estimator__max_depth=9, algorithm=SAMME.R, base_estimator__splitter=best \n",
      "[CV]  n_estimators=60, base_estimator__criterion=entropy, base_estimator__max_depth=9, algorithm=SAMME.R, base_estimator__splitter=best, total=   9.7s\n",
      "[CV] n_estimators=60, base_estimator__criterion=entropy, base_estimator__max_depth=9, algorithm=SAMME.R, base_estimator__splitter=random \n",
      "[CV]  n_estimators=60, base_estimator__criterion=entropy, base_estimator__max_depth=9, algorithm=SAMME.R, base_estimator__splitter=random, total=   8.1s\n",
      "[CV] n_estimators=60, base_estimator__criterion=entropy, base_estimator__max_depth=9, algorithm=SAMME.R, base_estimator__splitter=random \n",
      "[CV]  n_estimators=60, base_estimator__criterion=entropy, base_estimator__max_depth=9, algorithm=SAMME.R, base_estimator__splitter=random, total=  12.9s\n",
      "[CV] n_estimators=60, base_estimator__criterion=entropy, base_estimator__max_depth=9, algorithm=SAMME.R, base_estimator__splitter=random \n",
      "[CV]  n_estimators=60, base_estimator__criterion=entropy, base_estimator__max_depth=9, algorithm=SAMME.R, base_estimator__splitter=random, total=  10.8s\n"
     ]
    },
    {
     "name": "stderr",
     "output_type": "stream",
     "text": [
      "[Parallel(n_jobs=1)]: Done 120 out of 120 | elapsed: 11.2min finished\n"
     ]
    },
    {
     "name": "stdout",
     "output_type": "stream",
     "text": [
      "{'n_estimators': 60, 'base_estimator__criterion': 'entropy', 'base_estimator__max_depth': 2, 'algorithm': 'SAMME.R', 'base_estimator__splitter': 'best'}\n",
      "Unoptimized model\n",
      "------\n",
      "Accuracy score on testing data: 0.8140\n",
      "F-score on testing data: 0.6179\n",
      "\n",
      "Optimized Model\n",
      "------\n",
      "Final accuracy score on the testing data: 0.8647\n",
      "Final F-score on the testing data: 0.7361\n"
     ]
    }
   ],
   "source": [
    "# TODO: Import 'GridSearchCV', 'make_scorer', and any other necessary libraries\n",
    "from sklearn.model_selection import GridSearchCV\n",
    "from sklearn.metrics import fbeta_score, make_scorer\n",
    "from sklearn.ensemble import AdaBoostClassifier\n",
    "from sklearn.tree import DecisionTreeClassifier\n",
    "\n",
    "# TODO: Initialize the classifier\n",
    "DTC = DecisionTreeClassifier(random_state = 814)\n",
    "clf = AdaBoostClassifier(base_estimator = DTC, random_state = 814)\n",
    "\n",
    "# TODO: Create the parameters list you wish to tune\n",
    "\n",
    "parameters = {'base_estimator__criterion': ['gini', 'entropy'], \n",
    "              'base_estimator__splitter' : ['best', 'random'], \n",
    "              'base_estimator__max_depth' : [1, 2, 3, 6, 9], \n",
    "              'n_estimators': [60],\n",
    "              'algorithm' : ['SAMME', 'SAMME.R']}\n",
    "\n",
    "# TODO: Make an fbeta_score scoring object\n",
    "scorer = make_scorer(fbeta_score, beta = 0.5)\n",
    "\n",
    "# TODO: Perform grid search on the classifier using 'scorer' as the scoring method\n",
    "grid_obj = GridSearchCV(clf, parameters, scoring = scorer, verbose = 2)\n",
    "\n",
    "# TODO: Fit the grid search object to the training data and find the optimal parameters\n",
    "grid_fit = grid_obj.fit(X_train, y_train)\n",
    "\n",
    "# Get the estimator\n",
    "best_clf = grid_fit.best_estimator_\n",
    "\n",
    "# Make predictions using the unoptimized and model\n",
    "predictions = (clf.fit(X_train, y_train)).predict(X_test)\n",
    "best_predictions = best_clf.predict(X_test)\n",
    "\n",
    "print grid_fit.best_params_\n",
    "\n",
    "# Report the before-and-afterscores\n",
    "print \"Unoptimized model\\n------\"\n",
    "print \"Accuracy score on testing data: {:.4f}\".format(accuracy_score(y_test, predictions))\n",
    "print \"F-score on testing data: {:.4f}\".format(fbeta_score(y_test, predictions, beta = 0.5))\n",
    "print \"\\nOptimized Model\\n------\"\n",
    "print \"Final accuracy score on the testing data: {:.4f}\".format(accuracy_score(y_test, best_predictions))\n",
    "print \"Final F-score on the testing data: {:.4f}\".format(fbeta_score(y_test, best_predictions, beta = 0.5))"
   ]
  },
  {
   "cell_type": "markdown",
   "metadata": {},
   "source": [
    "### Question 5 - Final Model Evaluation\n",
    "_What is your optimized model's accuracy and F-score on the testing data? Are these scores better or worse than the unoptimized model? How do the results from your optimized model compare to the naive predictor benchmarks you found earlier in **Question 1**?_  \n",
    "**Note:** Fill in the table below with your results, and then provide discussion in the **Answer** box."
   ]
  },
  {
   "cell_type": "markdown",
   "metadata": {},
   "source": [
    "#### Results:\n",
    "\n",
    "|     Metric     | Benchmark Predictor | Unoptimized Model | Optimized Model |\n",
    "| :------------: | :-----------------: | :---------------: | :-------------: | \n",
    "| Accuracy Score |          0.2478     |     0.8140        |   0.8647        |\n",
    "| F-score        |          0.2917     |          0.6179   |   0.7361        |\n"
   ]
  },
  {
   "cell_type": "markdown",
   "metadata": {},
   "source": [
    "**Answer: **\n",
    "The usage of a model provides a tremendous improvement compared with the **benchmark predictor**. This was to be expected and rectifies the actual use of machine learning techniques. The optimization step has introduced an improvement of some significance. It is to be expected that the optimized model is at least as good as the unoptimized one because of the way GridSearchCV works: It tests all parameter combinations and (depending on configuration) als tests for the unoptimized model and then simply selects the \"best of the breed\". In this case both, accuracy score as well as f-score shop a significant amount of optimization. The ideal parameter combination was:\n",
    "\n",
    "- base_estimator__criterion: entropy\n",
    "- base_estimator__max_depth: 2\n",
    "- algorithm: SAMME.R\n",
    "- n_estimators: 60\n",
    "- base_estimator__splitter: best\n",
    "\n",
    "Still, more optimization is possible by including other parameters or a wider range. Also given the nature of this algorithm increasing some of the parameters such as the number of weak learners will tend to always improve on the result with decreasing magnitued.\n"
   ]
  },
  {
   "cell_type": "markdown",
   "metadata": {},
   "source": [
    "----\n",
    "## Feature Importance\n",
    "\n",
    "An important task when performing supervised learning on a dataset like the census data we study here is determining which features provide the most predictive power. By focusing on the relationship between only a few crucial features and the target label we simplify our understanding of the phenomenon, which is most always a useful thing to do. In the case of this project, that means we wish to identify a small number of features that most strongly predict whether an individual makes at most or more than \\$50,000.\n",
    "\n",
    "Choose a scikit-learn classifier (e.g., adaboost, random forests) that has a `feature_importance_` attribute, which is a function that ranks the importance of features according to the chosen classifier.  In the next python cell fit this classifier to training set and use this attribute to determine the top 5 most important features for the census dataset."
   ]
  },
  {
   "cell_type": "markdown",
   "metadata": {},
   "source": [
    "### Question 6 - Feature Relevance Observation\n",
    "When **Exploring the Data**, it was shown there are thirteen available features for each individual on record in the census data.  \n",
    "_Of these thirteen records, which five features do you believe to be most important for prediction, and in what order would you rank them and why?_"
   ]
  },
  {
   "cell_type": "markdown",
   "metadata": {},
   "source": [
    "**Answer:**\n",
    "I think the following features are the most important in predictions (in decreasing order):\n",
    "\n",
    "1. Capital-gain\n",
    "2. Workclass\n",
    "3. Native-Country\n",
    "4. Education-num\n",
    "5. Age\n",
    "\n",
    "**Capital gain** is probly the most direct measure of income. It is a bit unclear what this number actually reflects but it basically answers the question right away. It also seems to hold a very similar information as capital-loss. **Workclass** appears to be an important factor in income, especially if a person is or ever has been occupied. Holding a job seems a very basic precondition for a significant annual income. The **native country** is relevant because of the differences in income structure. While a certain job (workclass) in Germany will provide a salary above 50k this can be very different in Thailand. However, it is questionable if the dataset is large enough to represent these relationships properly. The **education-num** as a very similar measure compared to the education level provides a quantified measure for the expertise which will also most likely correlate to income. **Age** finally accounts for the fact that the number of professional years (missing in the data as a direct measure) have a very direct positive relationship to the income."
   ]
  },
  {
   "cell_type": "markdown",
   "metadata": {},
   "source": [
    "### Implementation - Extracting Feature Importance\n",
    "Choose a `scikit-learn` supervised learning algorithm that has a `feature_importance_` attribute availble for it. This attribute is a function that ranks the importance of each feature when making predictions based on the chosen algorithm.\n",
    "\n",
    "In the code cell below, you will need to implement the following:\n",
    " - Import a supervised learning model from sklearn if it is different from the three used earlier.\n",
    " - Train the supervised model on the entire training set.\n",
    " - Extract the feature importances using `'.feature_importances_'`."
   ]
  },
  {
   "cell_type": "code",
   "execution_count": 12,
   "metadata": {
    "collapsed": false
   },
   "outputs": [
    {
     "data": {
      "image/png": "[encoded data removed]",
      "text/plain": [
       "<matplotlib.figure.Figure at 0x7f26086f2410>"
      ]
     },
     "metadata": {},
     "output_type": "display_data"
    }
   ],
   "source": [
    "# TODO: Import a supervised learning model that has 'feature_importances_'\n",
    "\n",
    "# TODO: Train the supervised model on the training set \n",
    "model = best_clf\n",
    "model.fit(X_train, y_train)\n",
    "\n",
    "# TODO: Extract the feature importances\n",
    "importances = model.feature_importances_\n",
    "\n",
    "# Plot\n",
    "vs.feature_plot(importances, X_train, y_train)"
   ]
  },
  {
   "cell_type": "markdown",
   "metadata": {},
   "source": [
    "### Question 7 - Extracting Feature Importance\n",
    "\n",
    "Observe the visualization created above which displays the five most relevant features for predicting if an individual makes at most or above \\$50,000.  \n",
    "_How do these five features compare to the five features you discussed in **Question 6**? If you were close to the same answer, how does this visualization confirm your thoughts? If you were not close, why do you think these features are more relevant?_"
   ]
  },
  {
   "cell_type": "markdown",
   "metadata": {},
   "source": [
    "**Answer:**\n",
    "As expteced, **capital gain** is among the most important features. **Capital loss** as the single most important feature is not surprising as such but the fact that it provides additional information compared to capital-gain reflects that this feature has more additional information tha initially expected. The **hours-per-week** have not been in the initial set but they provide a similar kind of information as the **work-class** in the sense that they reflect if someon is employed. **Age** has been ranked fourth, similar to the expectation. The number of **educactional years** is also part of the set as expected. \n",
    "\n",
    "Opposed to my initial thoughts the **native-country** is not part of the most important features. In this case however this does not necessarily reflect the actual importance of the native country. The feature has been one-hot-encoded, splitting it in multiple features in the beginning. While the origination of single country (e.g. coming from Thailand: yes/no) might not be relevant in most of the cases, the native country over all might have a big influence. \n",
    "\n",
    "As highlighted by my reviewer of this project all listed features are not categorical but numerical. Same as for the native country this effect might be due to the 1-hot-encoding that distributes the power of a single feature into multiples, causing a de-ranking in this visualization."
   ]
  },
  {
   "cell_type": "markdown",
   "metadata": {},
   "source": [
    "### Feature Selection\n",
    "How does a model perform if we only use a subset of all the available features in the data? With less features required to train, the expectation is that training and prediction time is much lower — at the cost of performance metrics. From the visualization above, we see that the top five most important features contribute more than half of the importance of **all** features present in the data. This hints that we can attempt to *reduce the feature space* and simplify the information required for the model to learn. The code cell below will use the same optimized model you found earlier, and train it on the same training set *with only the top five important features*. "
   ]
  },
  {
   "cell_type": "code",
   "execution_count": 13,
   "metadata": {
    "collapsed": false
   },
   "outputs": [
    {
     "name": "stdout",
     "output_type": "stream",
     "text": [
      "Final Model trained on full data\n",
      "------\n",
      "Accuracy on testing data: 0.8647\n",
      "F-score on testing data: 0.7361\n",
      "\n",
      "Final Model trained on reduced data\n",
      "------\n",
      "Accuracy on testing data: 0.8444\n",
      "F-score on testing data: 0.7088\n"
     ]
    }
   ],
   "source": [
    "# Import functionality for cloning a model\n",
    "from sklearn.base import clone\n",
    "\n",
    "# Reduce the feature space\n",
    "X_train_reduced = X_train[X_train.columns.values[(np.argsort(importances)[::-1])[:5]]]\n",
    "X_test_reduced = X_test[X_test.columns.values[(np.argsort(importances)[::-1])[:5]]]\n",
    "\n",
    "# Train on the \"best\" model found from grid search earlier\n",
    "clf = (clone(best_clf)).fit(X_train_reduced, y_train)\n",
    "\n",
    "# Make new predictions\n",
    "reduced_predictions = clf.predict(X_test_reduced)\n",
    "\n",
    "# Report scores from the final model using both versions of data\n",
    "print \"Final Model trained on full data\\n------\"\n",
    "print \"Accuracy on testing data: {:.4f}\".format(accuracy_score(y_test, best_predictions))\n",
    "print \"F-score on testing data: {:.4f}\".format(fbeta_score(y_test, best_predictions, beta = 0.5))\n",
    "print \"\\nFinal Model trained on reduced data\\n------\"\n",
    "print \"Accuracy on testing data: {:.4f}\".format(accuracy_score(y_test, reduced_predictions))\n",
    "print \"F-score on testing data: {:.4f}\".format(fbeta_score(y_test, reduced_predictions, beta = 0.5))"
   ]
  },
  {
   "cell_type": "markdown",
   "metadata": {},
   "source": [
    "### Question 8 - Effects of Feature Selection\n",
    "*How does the final model's F-score and accuracy score on the reduced data using only five features compare to those same scores when all features are used?*  \n",
    "*If training time was a factor, would you consider using the reduced data as your training set?*"
   ]
  },
  {
   "cell_type": "markdown",
   "metadata": {},
   "source": [
    "**Answer:**\n",
    "The improvement of accuracy is 0.0033 and F-score is 0.0008 when comparing full with reduced feature set. This difference is rather small. For the given problem this loss of precision seems acceptable given that training time is an issue. But training time seems to be a very minor aspects, especially when speaking about seconds while a training time of even days would not be too problematic. \n",
    "\n",
    "Another thing to keep in mind is that the reduce feature set does differ from the one that was used to select the algorithm. With the knowledge of feature importance it could be worthwhile to reconsider the model selection using a model that is not well suited for 1-hot-encoded features and test predictions on an already reduced data set."
   ]
  },
  {
   "cell_type": "markdown",
   "metadata": {},
   "source": [
    "> **Note**: Once you have completed all of the code implementations and successfully answered each question above, you may finalize your work by exporting the iPython Notebook as an HTML document. You can do this by using the menu above and navigating to  \n",
    "**File -> Download as -> HTML (.html)**. Include the finished document along with this notebook as your submission."
   ]
  }
 ],
 "metadata": {
  "kernelspec": {
   "display_name": "Python 2",
   "language": "python",
   "name": "python2"
  },
  "language_info": {
   "codemirror_mode": {
    "name": "ipython",
    "version": 2
   },
   "file_extension": ".py",
   "mimetype": "text/x-python",
   "name": "python",
   "nbconvert_exporter": "python",
   "pygments_lexer": "ipython2",
   "version": "2.7.13"
  }
 },
 "nbformat": 4,
 "nbformat_minor": 0
}
